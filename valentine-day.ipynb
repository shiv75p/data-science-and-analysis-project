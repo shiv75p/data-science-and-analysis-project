{
 "cells": [
  {
   "cell_type": "code",
   "execution_count": 1,
   "id": "268778d2",
   "metadata": {
    "_cell_guid": "b1076dfc-b9ad-4769-8c92-a6c4dae69d19",
    "_uuid": "8f2839f25d086af736a60e9eeb907d3b93b6e0e5",
    "execution": {
     "iopub.execute_input": "2024-02-08T08:36:29.323498Z",
     "iopub.status.busy": "2024-02-08T08:36:29.323119Z",
     "iopub.status.idle": "2024-02-08T08:36:31.956751Z",
     "shell.execute_reply": "2024-02-08T08:36:31.955373Z"
    },
    "papermill": {
     "duration": 2.651622,
     "end_time": "2024-02-08T08:36:31.959814",
     "exception": false,
     "start_time": "2024-02-08T08:36:29.308192",
     "status": "completed"
    },
    "tags": []
   },
   "outputs": [
    {
     "name": "stdout",
     "output_type": "stream",
     "text": [
      "/kaggle/input/2024-amazon-best-sellers-top-valentine-gifts/amazon_2024_valentines_best_sellers.csv\n"
     ]
    }
   ],
   "source": [
    "\n",
    "\n",
    "import numpy as np # linear algebra\n",
    "import pandas as pd # data processing, CSV file I/O (e.g. pd.read_csv)\n",
    "import seaborn as sns\n",
    "import matplotlib.pyplot as plt\n",
    "\n",
    "\n",
    "\n",
    "import os\n",
    "for dirname, _, filenames in os.walk('/kaggle/input'):\n",
    "    for filename in filenames:\n",
    "        print(os.path.join(dirname, filename))\n"
   ]
  },
  {
   "cell_type": "code",
   "execution_count": 2,
   "id": "48789863",
   "metadata": {
    "execution": {
     "iopub.execute_input": "2024-02-08T08:36:31.989472Z",
     "iopub.status.busy": "2024-02-08T08:36:31.987962Z",
     "iopub.status.idle": "2024-02-08T08:36:32.015022Z",
     "shell.execute_reply": "2024-02-08T08:36:32.014120Z"
    },
    "papermill": {
     "duration": 0.044417,
     "end_time": "2024-02-08T08:36:32.017712",
     "exception": false,
     "start_time": "2024-02-08T08:36:31.973295",
     "status": "completed"
    },
    "tags": []
   },
   "outputs": [],
   "source": [
    "data = pd.read_csv(\"/kaggle/input/2024-amazon-best-sellers-top-valentine-gifts/amazon_2024_valentines_best_sellers.csv\")"
   ]
  },
  {
   "cell_type": "code",
   "execution_count": 3,
   "id": "6e82769b",
   "metadata": {
    "execution": {
     "iopub.execute_input": "2024-02-08T08:36:32.047430Z",
     "iopub.status.busy": "2024-02-08T08:36:32.046771Z",
     "iopub.status.idle": "2024-02-08T08:36:32.072598Z",
     "shell.execute_reply": "2024-02-08T08:36:32.071388Z"
    },
    "papermill": {
     "duration": 0.043189,
     "end_time": "2024-02-08T08:36:32.075412",
     "exception": false,
     "start_time": "2024-02-08T08:36:32.032223",
     "status": "completed"
    },
    "tags": []
   },
   "outputs": [
    {
     "data": {
      "text/html": [
       "<div>\n",
       "<style scoped>\n",
       "    .dataframe tbody tr th:only-of-type {\n",
       "        vertical-align: middle;\n",
       "    }\n",
       "\n",
       "    .dataframe tbody tr th {\n",
       "        vertical-align: top;\n",
       "    }\n",
       "\n",
       "    .dataframe thead th {\n",
       "        text-align: right;\n",
       "    }\n",
       "</style>\n",
       "<table border=\"1\" class=\"dataframe\">\n",
       "  <thead>\n",
       "    <tr style=\"text-align: right;\">\n",
       "      <th></th>\n",
       "      <th>title</th>\n",
       "      <th>brand</th>\n",
       "      <th>description</th>\n",
       "      <th>starsBreakdown/3star</th>\n",
       "      <th>starsBreakdown/4star</th>\n",
       "      <th>starsBreakdown/5star</th>\n",
       "      <th>reviewsCount</th>\n",
       "      <th>price</th>\n",
       "      <th>price/currency</th>\n",
       "      <th>price/value</th>\n",
       "      <th>categoryPageData/productPosition</th>\n",
       "    </tr>\n",
       "  </thead>\n",
       "  <tbody>\n",
       "    <tr>\n",
       "      <th>0</th>\n",
       "      <td>Ferrero Rocher, 24 Count, Premium Milk Chocola...</td>\n",
       "      <td>Ferrero Rocher</td>\n",
       "      <td>Ferrero Rocher's milk chocolate gift box offer...</td>\n",
       "      <td>0.02</td>\n",
       "      <td>0.07</td>\n",
       "      <td>0.89</td>\n",
       "      <td>20021.0</td>\n",
       "      <td>NaN</td>\n",
       "      <td>$</td>\n",
       "      <td>11.39</td>\n",
       "      <td>7</td>\n",
       "    </tr>\n",
       "    <tr>\n",
       "      <th>1</th>\n",
       "      <td>HERSHEY'S NUGGETS Assorted Chocolate, Valentin...</td>\n",
       "      <td>HERSHEY'S</td>\n",
       "      <td>This HERSHEY'S NUGGETS candy assortment is fil...</td>\n",
       "      <td>0.03</td>\n",
       "      <td>0.10</td>\n",
       "      <td>0.84</td>\n",
       "      <td>18891.0</td>\n",
       "      <td>NaN</td>\n",
       "      <td>$</td>\n",
       "      <td>10.69</td>\n",
       "      <td>16</td>\n",
       "    </tr>\n",
       "    <tr>\n",
       "      <th>2</th>\n",
       "      <td>LEGO Icons Flower Bouquet Building Decoration ...</td>\n",
       "      <td>LEGO</td>\n",
       "      <td>Giving and receiving beautiful flowers is such...</td>\n",
       "      <td>0.01</td>\n",
       "      <td>0.05</td>\n",
       "      <td>0.92</td>\n",
       "      <td>19395.0</td>\n",
       "      <td>NaN</td>\n",
       "      <td>$</td>\n",
       "      <td>47.99</td>\n",
       "      <td>2</td>\n",
       "    </tr>\n",
       "    <tr>\n",
       "      <th>3</th>\n",
       "      <td>BodyRefresh Shower Steamers Aromatherapy - 8 P...</td>\n",
       "      <td>BodyRefresh</td>\n",
       "      <td>NaN</td>\n",
       "      <td>0.07</td>\n",
       "      <td>0.15</td>\n",
       "      <td>0.67</td>\n",
       "      <td>593.0</td>\n",
       "      <td>NaN</td>\n",
       "      <td>$</td>\n",
       "      <td>9.99</td>\n",
       "      <td>10</td>\n",
       "    </tr>\n",
       "    <tr>\n",
       "      <th>4</th>\n",
       "      <td>JoJowell Shower Steamers Aromatherapy - 21Pcs ...</td>\n",
       "      <td>JoJowell</td>\n",
       "      <td>NaN</td>\n",
       "      <td>0.10</td>\n",
       "      <td>0.15</td>\n",
       "      <td>0.63</td>\n",
       "      <td>816.0</td>\n",
       "      <td>NaN</td>\n",
       "      <td>$</td>\n",
       "      <td>21.99</td>\n",
       "      <td>11</td>\n",
       "    </tr>\n",
       "  </tbody>\n",
       "</table>\n",
       "</div>"
      ],
      "text/plain": [
       "                                               title           brand  \\\n",
       "0  Ferrero Rocher, 24 Count, Premium Milk Chocola...  Ferrero Rocher   \n",
       "1  HERSHEY'S NUGGETS Assorted Chocolate, Valentin...       HERSHEY'S   \n",
       "2  LEGO Icons Flower Bouquet Building Decoration ...            LEGO   \n",
       "3  BodyRefresh Shower Steamers Aromatherapy - 8 P...     BodyRefresh   \n",
       "4  JoJowell Shower Steamers Aromatherapy - 21Pcs ...        JoJowell   \n",
       "\n",
       "                                         description  starsBreakdown/3star  \\\n",
       "0  Ferrero Rocher's milk chocolate gift box offer...                  0.02   \n",
       "1  This HERSHEY'S NUGGETS candy assortment is fil...                  0.03   \n",
       "2  Giving and receiving beautiful flowers is such...                  0.01   \n",
       "3                                                NaN                  0.07   \n",
       "4                                                NaN                  0.10   \n",
       "\n",
       "   starsBreakdown/4star  starsBreakdown/5star  reviewsCount  price  \\\n",
       "0                  0.07                  0.89       20021.0    NaN   \n",
       "1                  0.10                  0.84       18891.0    NaN   \n",
       "2                  0.05                  0.92       19395.0    NaN   \n",
       "3                  0.15                  0.67         593.0    NaN   \n",
       "4                  0.15                  0.63         816.0    NaN   \n",
       "\n",
       "  price/currency  price/value  categoryPageData/productPosition  \n",
       "0              $        11.39                                 7  \n",
       "1              $        10.69                                16  \n",
       "2              $        47.99                                 2  \n",
       "3              $         9.99                                10  \n",
       "4              $        21.99                                11  "
      ]
     },
     "execution_count": 3,
     "metadata": {},
     "output_type": "execute_result"
    }
   ],
   "source": [
    "data.head()"
   ]
  },
  {
   "cell_type": "code",
   "execution_count": 4,
   "id": "2344dc9e",
   "metadata": {
    "execution": {
     "iopub.execute_input": "2024-02-08T08:36:32.106075Z",
     "iopub.status.busy": "2024-02-08T08:36:32.104938Z",
     "iopub.status.idle": "2024-02-08T08:36:32.112710Z",
     "shell.execute_reply": "2024-02-08T08:36:32.111560Z"
    },
    "papermill": {
     "duration": 0.026049,
     "end_time": "2024-02-08T08:36:32.115145",
     "exception": false,
     "start_time": "2024-02-08T08:36:32.089096",
     "status": "completed"
    },
    "tags": []
   },
   "outputs": [
    {
     "data": {
      "text/plain": [
       "(218, 11)"
      ]
     },
     "execution_count": 4,
     "metadata": {},
     "output_type": "execute_result"
    }
   ],
   "source": [
    "data.shape"
   ]
  },
  {
   "cell_type": "code",
   "execution_count": 5,
   "id": "a62e201c",
   "metadata": {
    "execution": {
     "iopub.execute_input": "2024-02-08T08:36:32.143756Z",
     "iopub.status.busy": "2024-02-08T08:36:32.143404Z",
     "iopub.status.idle": "2024-02-08T08:36:32.157124Z",
     "shell.execute_reply": "2024-02-08T08:36:32.155945Z"
    },
    "papermill": {
     "duration": 0.031084,
     "end_time": "2024-02-08T08:36:32.159646",
     "exception": false,
     "start_time": "2024-02-08T08:36:32.128562",
     "status": "completed"
    },
    "tags": []
   },
   "outputs": [
    {
     "data": {
      "text/plain": [
       "title                                 0.000000\n",
       "brand                                 0.458716\n",
       "description                          78.899083\n",
       "starsBreakdown/3star                  0.000000\n",
       "starsBreakdown/4star                  0.000000\n",
       "starsBreakdown/5star                  0.000000\n",
       "reviewsCount                          0.917431\n",
       "price                               100.000000\n",
       "price/currency                       22.477064\n",
       "price/value                          22.477064\n",
       "categoryPageData/productPosition      0.000000\n",
       "dtype: float64"
      ]
     },
     "execution_count": 5,
     "metadata": {},
     "output_type": "execute_result"
    }
   ],
   "source": [
    "# understanding of the data\n",
    "(data.isnull().sum() / data.shape[0])*100"
   ]
  },
  {
   "cell_type": "markdown",
   "id": "0c8e409a",
   "metadata": {
    "papermill": {
     "duration": 0.013244,
     "end_time": "2024-02-08T08:36:32.186555",
     "exception": false,
     "start_time": "2024-02-08T08:36:32.173311",
     "status": "completed"
    },
    "tags": []
   },
   "source": [
    "### Handling the null Values"
   ]
  },
  {
   "cell_type": "code",
   "execution_count": 6,
   "id": "0cf189cd",
   "metadata": {
    "execution": {
     "iopub.execute_input": "2024-02-08T08:36:32.215267Z",
     "iopub.status.busy": "2024-02-08T08:36:32.214869Z",
     "iopub.status.idle": "2024-02-08T08:36:32.227413Z",
     "shell.execute_reply": "2024-02-08T08:36:32.226494Z"
    },
    "papermill": {
     "duration": 0.029971,
     "end_time": "2024-02-08T08:36:32.229915",
     "exception": false,
     "start_time": "2024-02-08T08:36:32.199944",
     "status": "completed"
    },
    "tags": []
   },
   "outputs": [],
   "source": [
    "#Dropping the null column more than 40%\n",
    "data.drop([\"price\",\"description\"],axis = 1, inplace = True)"
   ]
  },
  {
   "cell_type": "code",
   "execution_count": 7,
   "id": "0cb22c5d",
   "metadata": {
    "execution": {
     "iopub.execute_input": "2024-02-08T08:36:32.259738Z",
     "iopub.status.busy": "2024-02-08T08:36:32.259358Z",
     "iopub.status.idle": "2024-02-08T08:36:32.277522Z",
     "shell.execute_reply": "2024-02-08T08:36:32.276712Z"
    },
    "papermill": {
     "duration": 0.035742,
     "end_time": "2024-02-08T08:36:32.279687",
     "exception": false,
     "start_time": "2024-02-08T08:36:32.243945",
     "status": "completed"
    },
    "tags": []
   },
   "outputs": [
    {
     "data": {
      "text/html": [
       "<div>\n",
       "<style scoped>\n",
       "    .dataframe tbody tr th:only-of-type {\n",
       "        vertical-align: middle;\n",
       "    }\n",
       "\n",
       "    .dataframe tbody tr th {\n",
       "        vertical-align: top;\n",
       "    }\n",
       "\n",
       "    .dataframe thead th {\n",
       "        text-align: right;\n",
       "    }\n",
       "</style>\n",
       "<table border=\"1\" class=\"dataframe\">\n",
       "  <thead>\n",
       "    <tr style=\"text-align: right;\">\n",
       "      <th></th>\n",
       "      <th>title</th>\n",
       "      <th>brand</th>\n",
       "      <th>starsBreakdown/3star</th>\n",
       "      <th>starsBreakdown/4star</th>\n",
       "      <th>starsBreakdown/5star</th>\n",
       "      <th>reviewsCount</th>\n",
       "      <th>price/currency</th>\n",
       "      <th>price/value</th>\n",
       "      <th>categoryPageData/productPosition</th>\n",
       "    </tr>\n",
       "  </thead>\n",
       "  <tbody>\n",
       "    <tr>\n",
       "      <th>0</th>\n",
       "      <td>Ferrero Rocher, 24 Count, Premium Milk Chocola...</td>\n",
       "      <td>Ferrero Rocher</td>\n",
       "      <td>0.02</td>\n",
       "      <td>0.07</td>\n",
       "      <td>0.89</td>\n",
       "      <td>20021.0</td>\n",
       "      <td>$</td>\n",
       "      <td>11.39</td>\n",
       "      <td>7</td>\n",
       "    </tr>\n",
       "    <tr>\n",
       "      <th>1</th>\n",
       "      <td>HERSHEY'S NUGGETS Assorted Chocolate, Valentin...</td>\n",
       "      <td>HERSHEY'S</td>\n",
       "      <td>0.03</td>\n",
       "      <td>0.10</td>\n",
       "      <td>0.84</td>\n",
       "      <td>18891.0</td>\n",
       "      <td>$</td>\n",
       "      <td>10.69</td>\n",
       "      <td>16</td>\n",
       "    </tr>\n",
       "    <tr>\n",
       "      <th>2</th>\n",
       "      <td>LEGO Icons Flower Bouquet Building Decoration ...</td>\n",
       "      <td>LEGO</td>\n",
       "      <td>0.01</td>\n",
       "      <td>0.05</td>\n",
       "      <td>0.92</td>\n",
       "      <td>19395.0</td>\n",
       "      <td>$</td>\n",
       "      <td>47.99</td>\n",
       "      <td>2</td>\n",
       "    </tr>\n",
       "    <tr>\n",
       "      <th>3</th>\n",
       "      <td>BodyRefresh Shower Steamers Aromatherapy - 8 P...</td>\n",
       "      <td>BodyRefresh</td>\n",
       "      <td>0.07</td>\n",
       "      <td>0.15</td>\n",
       "      <td>0.67</td>\n",
       "      <td>593.0</td>\n",
       "      <td>$</td>\n",
       "      <td>9.99</td>\n",
       "      <td>10</td>\n",
       "    </tr>\n",
       "    <tr>\n",
       "      <th>4</th>\n",
       "      <td>JoJowell Shower Steamers Aromatherapy - 21Pcs ...</td>\n",
       "      <td>JoJowell</td>\n",
       "      <td>0.10</td>\n",
       "      <td>0.15</td>\n",
       "      <td>0.63</td>\n",
       "      <td>816.0</td>\n",
       "      <td>$</td>\n",
       "      <td>21.99</td>\n",
       "      <td>11</td>\n",
       "    </tr>\n",
       "  </tbody>\n",
       "</table>\n",
       "</div>"
      ],
      "text/plain": [
       "                                               title           brand  \\\n",
       "0  Ferrero Rocher, 24 Count, Premium Milk Chocola...  Ferrero Rocher   \n",
       "1  HERSHEY'S NUGGETS Assorted Chocolate, Valentin...       HERSHEY'S   \n",
       "2  LEGO Icons Flower Bouquet Building Decoration ...            LEGO   \n",
       "3  BodyRefresh Shower Steamers Aromatherapy - 8 P...     BodyRefresh   \n",
       "4  JoJowell Shower Steamers Aromatherapy - 21Pcs ...        JoJowell   \n",
       "\n",
       "   starsBreakdown/3star  starsBreakdown/4star  starsBreakdown/5star  \\\n",
       "0                  0.02                  0.07                  0.89   \n",
       "1                  0.03                  0.10                  0.84   \n",
       "2                  0.01                  0.05                  0.92   \n",
       "3                  0.07                  0.15                  0.67   \n",
       "4                  0.10                  0.15                  0.63   \n",
       "\n",
       "   reviewsCount price/currency  price/value  categoryPageData/productPosition  \n",
       "0       20021.0              $        11.39                                 7  \n",
       "1       18891.0              $        10.69                                16  \n",
       "2       19395.0              $        47.99                                 2  \n",
       "3         593.0              $         9.99                                10  \n",
       "4         816.0              $        21.99                                11  "
      ]
     },
     "execution_count": 7,
     "metadata": {},
     "output_type": "execute_result"
    }
   ],
   "source": [
    "data.head()"
   ]
  },
  {
   "cell_type": "code",
   "execution_count": 8,
   "id": "377da61b",
   "metadata": {
    "execution": {
     "iopub.execute_input": "2024-02-08T08:36:32.310016Z",
     "iopub.status.busy": "2024-02-08T08:36:32.309595Z",
     "iopub.status.idle": "2024-02-08T08:36:32.324134Z",
     "shell.execute_reply": "2024-02-08T08:36:32.322798Z"
    },
    "papermill": {
     "duration": 0.033117,
     "end_time": "2024-02-08T08:36:32.326776",
     "exception": false,
     "start_time": "2024-02-08T08:36:32.293659",
     "status": "completed"
    },
    "tags": []
   },
   "outputs": [
    {
     "data": {
      "text/plain": [
       "price/currency\n",
       "$      169\n",
       "NaN     49\n",
       "Name: count, dtype: int64"
      ]
     },
     "execution_count": 8,
     "metadata": {},
     "output_type": "execute_result"
    }
   ],
   "source": [
    "data[\"price/currency\"].value_counts(dropna = False)"
   ]
  },
  {
   "cell_type": "code",
   "execution_count": 9,
   "id": "ec60bc26",
   "metadata": {
    "execution": {
     "iopub.execute_input": "2024-02-08T08:36:32.356510Z",
     "iopub.status.busy": "2024-02-08T08:36:32.356131Z",
     "iopub.status.idle": "2024-02-08T08:36:32.375084Z",
     "shell.execute_reply": "2024-02-08T08:36:32.373722Z"
    },
    "papermill": {
     "duration": 0.036652,
     "end_time": "2024-02-08T08:36:32.377381",
     "exception": false,
     "start_time": "2024-02-08T08:36:32.340729",
     "status": "completed"
    },
    "tags": []
   },
   "outputs": [
    {
     "data": {
      "text/html": [
       "<div>\n",
       "<style scoped>\n",
       "    .dataframe tbody tr th:only-of-type {\n",
       "        vertical-align: middle;\n",
       "    }\n",
       "\n",
       "    .dataframe tbody tr th {\n",
       "        vertical-align: top;\n",
       "    }\n",
       "\n",
       "    .dataframe thead th {\n",
       "        text-align: right;\n",
       "    }\n",
       "</style>\n",
       "<table border=\"1\" class=\"dataframe\">\n",
       "  <thead>\n",
       "    <tr style=\"text-align: right;\">\n",
       "      <th></th>\n",
       "      <th>title</th>\n",
       "      <th>brand</th>\n",
       "      <th>starsBreakdown/3star</th>\n",
       "      <th>starsBreakdown/4star</th>\n",
       "      <th>starsBreakdown/5star</th>\n",
       "      <th>reviewsCount</th>\n",
       "      <th>price/currency</th>\n",
       "      <th>price/value</th>\n",
       "      <th>categoryPageData/productPosition</th>\n",
       "    </tr>\n",
       "  </thead>\n",
       "  <tbody>\n",
       "    <tr>\n",
       "      <th>16</th>\n",
       "      <td>I LOVE YOU Red Valentine Chocolate Dipped Oreo...</td>\n",
       "      <td>Olde Naples Chocolate</td>\n",
       "      <td>0.07</td>\n",
       "      <td>0.10</td>\n",
       "      <td>0.74</td>\n",
       "      <td>474.0</td>\n",
       "      <td>NaN</td>\n",
       "      <td>NaN</td>\n",
       "      <td>34</td>\n",
       "    </tr>\n",
       "    <tr>\n",
       "      <th>18</th>\n",
       "      <td>Ferrero Collection, 12 Count, Assorted Milk an...</td>\n",
       "      <td>Ferrero Rocher</td>\n",
       "      <td>0.04</td>\n",
       "      <td>0.09</td>\n",
       "      <td>0.84</td>\n",
       "      <td>4770.0</td>\n",
       "      <td>NaN</td>\n",
       "      <td>NaN</td>\n",
       "      <td>38</td>\n",
       "    </tr>\n",
       "    <tr>\n",
       "      <th>20</th>\n",
       "      <td>Marycele Candle Warmer Lamp, Electric Candle L...</td>\n",
       "      <td>Marycele</td>\n",
       "      <td>0.05</td>\n",
       "      <td>0.07</td>\n",
       "      <td>0.78</td>\n",
       "      <td>1121.0</td>\n",
       "      <td>NaN</td>\n",
       "      <td>NaN</td>\n",
       "      <td>47</td>\n",
       "    </tr>\n",
       "    <tr>\n",
       "      <th>24</th>\n",
       "      <td>SKITTLES Valentine's Day Wild Berry Chewy Cand...</td>\n",
       "      <td>Skittles</td>\n",
       "      <td>0.05</td>\n",
       "      <td>0.10</td>\n",
       "      <td>0.79</td>\n",
       "      <td>19772.0</td>\n",
       "      <td>NaN</td>\n",
       "      <td>NaN</td>\n",
       "      <td>30</td>\n",
       "    </tr>\n",
       "    <tr>\n",
       "      <th>27</th>\n",
       "      <td>EGD Acrylic Personalized Gifts Spotify Plaque ...</td>\n",
       "      <td>EGD</td>\n",
       "      <td>0.06</td>\n",
       "      <td>0.10</td>\n",
       "      <td>0.72</td>\n",
       "      <td>4717.0</td>\n",
       "      <td>NaN</td>\n",
       "      <td>NaN</td>\n",
       "      <td>25</td>\n",
       "    </tr>\n",
       "  </tbody>\n",
       "</table>\n",
       "</div>"
      ],
      "text/plain": [
       "                                                title                  brand  \\\n",
       "16  I LOVE YOU Red Valentine Chocolate Dipped Oreo...  Olde Naples Chocolate   \n",
       "18  Ferrero Collection, 12 Count, Assorted Milk an...         Ferrero Rocher   \n",
       "20  Marycele Candle Warmer Lamp, Electric Candle L...               Marycele   \n",
       "24  SKITTLES Valentine's Day Wild Berry Chewy Cand...               Skittles   \n",
       "27  EGD Acrylic Personalized Gifts Spotify Plaque ...                    EGD   \n",
       "\n",
       "    starsBreakdown/3star  starsBreakdown/4star  starsBreakdown/5star  \\\n",
       "16                  0.07                  0.10                  0.74   \n",
       "18                  0.04                  0.09                  0.84   \n",
       "20                  0.05                  0.07                  0.78   \n",
       "24                  0.05                  0.10                  0.79   \n",
       "27                  0.06                  0.10                  0.72   \n",
       "\n",
       "    reviewsCount price/currency  price/value  categoryPageData/productPosition  \n",
       "16         474.0            NaN          NaN                                34  \n",
       "18        4770.0            NaN          NaN                                38  \n",
       "20        1121.0            NaN          NaN                                47  \n",
       "24       19772.0            NaN          NaN                                30  \n",
       "27        4717.0            NaN          NaN                                25  "
      ]
     },
     "execution_count": 9,
     "metadata": {},
     "output_type": "execute_result"
    }
   ],
   "source": [
    "data[data[\"price/currency\"].isnull()].head()"
   ]
  },
  {
   "cell_type": "code",
   "execution_count": 10,
   "id": "7f4d829b",
   "metadata": {
    "execution": {
     "iopub.execute_input": "2024-02-08T08:36:32.408026Z",
     "iopub.status.busy": "2024-02-08T08:36:32.407623Z",
     "iopub.status.idle": "2024-02-08T08:36:32.416821Z",
     "shell.execute_reply": "2024-02-08T08:36:32.415924Z"
    },
    "papermill": {
     "duration": 0.027684,
     "end_time": "2024-02-08T08:36:32.419421",
     "exception": false,
     "start_time": "2024-02-08T08:36:32.391737",
     "status": "completed"
    },
    "tags": []
   },
   "outputs": [
    {
     "name": "stderr",
     "output_type": "stream",
     "text": [
      "/tmp/ipykernel_18/2155358369.py:1: FutureWarning: A value is trying to be set on a copy of a DataFrame or Series through chained assignment using an inplace method.\n",
      "The behavior will change in pandas 3.0. This inplace method will never work because the intermediate object on which we are setting values always behaves as a copy.\n",
      "\n",
      "For example, when doing 'df[col].method(value, inplace=True)', try using 'df.method({col: value}, inplace=True)' or df[col] = df[col].method(value) instead, to perform the operation inplace on the original object.\n",
      "\n",
      "\n",
      "  data[\"price/currency\"].fillna(data[\"price/currency\"].mode()[0], inplace = True)\n"
     ]
    }
   ],
   "source": [
    "data[\"price/currency\"].fillna(data[\"price/currency\"].mode()[0], inplace = True)"
   ]
  },
  {
   "cell_type": "code",
   "execution_count": 11,
   "id": "37d4fc97",
   "metadata": {
    "execution": {
     "iopub.execute_input": "2024-02-08T08:36:32.450638Z",
     "iopub.status.busy": "2024-02-08T08:36:32.450211Z",
     "iopub.status.idle": "2024-02-08T08:36:32.457664Z",
     "shell.execute_reply": "2024-02-08T08:36:32.456768Z"
    },
    "papermill": {
     "duration": 0.025504,
     "end_time": "2024-02-08T08:36:32.459889",
     "exception": false,
     "start_time": "2024-02-08T08:36:32.434385",
     "status": "completed"
    },
    "tags": []
   },
   "outputs": [
    {
     "data": {
      "text/plain": [
       "0"
      ]
     },
     "execution_count": 11,
     "metadata": {},
     "output_type": "execute_result"
    }
   ],
   "source": [
    "data[\"price/currency\"].isnull().sum()"
   ]
  },
  {
   "cell_type": "code",
   "execution_count": 12,
   "id": "eab90e8e",
   "metadata": {
    "execution": {
     "iopub.execute_input": "2024-02-08T08:36:32.490784Z",
     "iopub.status.busy": "2024-02-08T08:36:32.490374Z",
     "iopub.status.idle": "2024-02-08T08:36:32.535203Z",
     "shell.execute_reply": "2024-02-08T08:36:32.534095Z"
    },
    "papermill": {
     "duration": 0.063375,
     "end_time": "2024-02-08T08:36:32.537848",
     "exception": false,
     "start_time": "2024-02-08T08:36:32.474473",
     "status": "completed"
    },
    "tags": []
   },
   "outputs": [
    {
     "data": {
      "text/html": [
       "<div>\n",
       "<style scoped>\n",
       "    .dataframe tbody tr th:only-of-type {\n",
       "        vertical-align: middle;\n",
       "    }\n",
       "\n",
       "    .dataframe tbody tr th {\n",
       "        vertical-align: top;\n",
       "    }\n",
       "\n",
       "    .dataframe thead th {\n",
       "        text-align: right;\n",
       "    }\n",
       "</style>\n",
       "<table border=\"1\" class=\"dataframe\">\n",
       "  <thead>\n",
       "    <tr style=\"text-align: right;\">\n",
       "      <th></th>\n",
       "      <th>title</th>\n",
       "      <th>brand</th>\n",
       "      <th>starsBreakdown/3star</th>\n",
       "      <th>starsBreakdown/4star</th>\n",
       "      <th>starsBreakdown/5star</th>\n",
       "      <th>reviewsCount</th>\n",
       "      <th>price/currency</th>\n",
       "      <th>price/value</th>\n",
       "      <th>categoryPageData/productPosition</th>\n",
       "    </tr>\n",
       "  </thead>\n",
       "  <tbody>\n",
       "    <tr>\n",
       "      <th>16</th>\n",
       "      <td>I LOVE YOU Red Valentine Chocolate Dipped Oreo...</td>\n",
       "      <td>Olde Naples Chocolate</td>\n",
       "      <td>0.07</td>\n",
       "      <td>0.10</td>\n",
       "      <td>0.74</td>\n",
       "      <td>474.0</td>\n",
       "      <td>$</td>\n",
       "      <td>NaN</td>\n",
       "      <td>34</td>\n",
       "    </tr>\n",
       "    <tr>\n",
       "      <th>18</th>\n",
       "      <td>Ferrero Collection, 12 Count, Assorted Milk an...</td>\n",
       "      <td>Ferrero Rocher</td>\n",
       "      <td>0.04</td>\n",
       "      <td>0.09</td>\n",
       "      <td>0.84</td>\n",
       "      <td>4770.0</td>\n",
       "      <td>$</td>\n",
       "      <td>NaN</td>\n",
       "      <td>38</td>\n",
       "    </tr>\n",
       "    <tr>\n",
       "      <th>20</th>\n",
       "      <td>Marycele Candle Warmer Lamp, Electric Candle L...</td>\n",
       "      <td>Marycele</td>\n",
       "      <td>0.05</td>\n",
       "      <td>0.07</td>\n",
       "      <td>0.78</td>\n",
       "      <td>1121.0</td>\n",
       "      <td>$</td>\n",
       "      <td>NaN</td>\n",
       "      <td>47</td>\n",
       "    </tr>\n",
       "    <tr>\n",
       "      <th>24</th>\n",
       "      <td>SKITTLES Valentine's Day Wild Berry Chewy Cand...</td>\n",
       "      <td>Skittles</td>\n",
       "      <td>0.05</td>\n",
       "      <td>0.10</td>\n",
       "      <td>0.79</td>\n",
       "      <td>19772.0</td>\n",
       "      <td>$</td>\n",
       "      <td>NaN</td>\n",
       "      <td>30</td>\n",
       "    </tr>\n",
       "    <tr>\n",
       "      <th>27</th>\n",
       "      <td>EGD Acrylic Personalized Gifts Spotify Plaque ...</td>\n",
       "      <td>EGD</td>\n",
       "      <td>0.06</td>\n",
       "      <td>0.10</td>\n",
       "      <td>0.72</td>\n",
       "      <td>4717.0</td>\n",
       "      <td>$</td>\n",
       "      <td>NaN</td>\n",
       "      <td>25</td>\n",
       "    </tr>\n",
       "    <tr>\n",
       "      <th>29</th>\n",
       "      <td>Burt's Bees Essential Everyday Beauty Valentin...</td>\n",
       "      <td>Burt's Bees</td>\n",
       "      <td>0.04</td>\n",
       "      <td>0.11</td>\n",
       "      <td>0.83</td>\n",
       "      <td>40125.0</td>\n",
       "      <td>$</td>\n",
       "      <td>NaN</td>\n",
       "      <td>39</td>\n",
       "    </tr>\n",
       "    <tr>\n",
       "      <th>33</th>\n",
       "      <td>Candles Gifts for Her Funny Novelty Unique Val...</td>\n",
       "      <td>BFJLIFE</td>\n",
       "      <td>0.07</td>\n",
       "      <td>0.12</td>\n",
       "      <td>0.73</td>\n",
       "      <td>316.0</td>\n",
       "      <td>$</td>\n",
       "      <td>NaN</td>\n",
       "      <td>23</td>\n",
       "    </tr>\n",
       "    <tr>\n",
       "      <th>36</th>\n",
       "      <td>EBMORE Womens Fuzzy Socks Slipper Soft Cabin P...</td>\n",
       "      <td>EBMORE</td>\n",
       "      <td>0.04</td>\n",
       "      <td>0.10</td>\n",
       "      <td>0.82</td>\n",
       "      <td>3214.0</td>\n",
       "      <td>$</td>\n",
       "      <td>NaN</td>\n",
       "      <td>28</td>\n",
       "    </tr>\n",
       "    <tr>\n",
       "      <th>38</th>\n",
       "      <td>Valentine's Day Gift Care Package (50ct) Snack...</td>\n",
       "      <td>CRAVEBOX</td>\n",
       "      <td>0.06</td>\n",
       "      <td>0.11</td>\n",
       "      <td>0.77</td>\n",
       "      <td>2637.0</td>\n",
       "      <td>$</td>\n",
       "      <td>NaN</td>\n",
       "      <td>17</td>\n",
       "    </tr>\n",
       "    <tr>\n",
       "      <th>39</th>\n",
       "      <td>LUCKOR Personalized Valentines Day Gifts for H...</td>\n",
       "      <td>LUCKOR</td>\n",
       "      <td>0.04</td>\n",
       "      <td>0.08</td>\n",
       "      <td>0.75</td>\n",
       "      <td>398.0</td>\n",
       "      <td>$</td>\n",
       "      <td>NaN</td>\n",
       "      <td>9</td>\n",
       "    </tr>\n",
       "    <tr>\n",
       "      <th>41</th>\n",
       "      <td>LEGO Heart Ornament Building Toy Kit, Heart Sh...</td>\n",
       "      <td>LEGO</td>\n",
       "      <td>0.02</td>\n",
       "      <td>0.07</td>\n",
       "      <td>0.87</td>\n",
       "      <td>401.0</td>\n",
       "      <td>$</td>\n",
       "      <td>NaN</td>\n",
       "      <td>13</td>\n",
       "    </tr>\n",
       "    <tr>\n",
       "      <th>42</th>\n",
       "      <td>HERSHEY'S and REESE'S Assorted Chocolate, Vale...</td>\n",
       "      <td>HERSHEY'S</td>\n",
       "      <td>0.04</td>\n",
       "      <td>0.09</td>\n",
       "      <td>0.84</td>\n",
       "      <td>1586.0</td>\n",
       "      <td>$</td>\n",
       "      <td>NaN</td>\n",
       "      <td>6</td>\n",
       "    </tr>\n",
       "    <tr>\n",
       "      <th>43</th>\n",
       "      <td>Ferrero Rocher, 42 Count, Gourmet Milk Chocola...</td>\n",
       "      <td>Ferrero Rocher</td>\n",
       "      <td>0.02</td>\n",
       "      <td>0.06</td>\n",
       "      <td>0.89</td>\n",
       "      <td>9659.0</td>\n",
       "      <td>$</td>\n",
       "      <td>NaN</td>\n",
       "      <td>12</td>\n",
       "    </tr>\n",
       "    <tr>\n",
       "      <th>46</th>\n",
       "      <td>LEGO Icons Wildflower Bouquet Botanical Collec...</td>\n",
       "      <td>LEGO</td>\n",
       "      <td>0.01</td>\n",
       "      <td>0.04</td>\n",
       "      <td>0.94</td>\n",
       "      <td>3510.0</td>\n",
       "      <td>$</td>\n",
       "      <td>NaN</td>\n",
       "      <td>8</td>\n",
       "    </tr>\n",
       "    <tr>\n",
       "      <th>51</th>\n",
       "      <td>Valentine’s Candy Variety Pack 18 Count: Bulk ...</td>\n",
       "      <td>Bazooka Candy Brands</td>\n",
       "      <td>0.03</td>\n",
       "      <td>0.08</td>\n",
       "      <td>0.86</td>\n",
       "      <td>27866.0</td>\n",
       "      <td>$</td>\n",
       "      <td>NaN</td>\n",
       "      <td>54</td>\n",
       "    </tr>\n",
       "    <tr>\n",
       "      <th>52</th>\n",
       "      <td>Valentines Day Gifts Movie Night Popcorn Gift ...</td>\n",
       "      <td>Pop n' Dulge</td>\n",
       "      <td>0.09</td>\n",
       "      <td>0.15</td>\n",
       "      <td>0.69</td>\n",
       "      <td>522.0</td>\n",
       "      <td>$</td>\n",
       "      <td>NaN</td>\n",
       "      <td>53</td>\n",
       "    </tr>\n",
       "    <tr>\n",
       "      <th>54</th>\n",
       "      <td>BAIMEI Jade Roller &amp; Gua Sha, Face Roller Redn...</td>\n",
       "      <td>BAIMEI</td>\n",
       "      <td>0.06</td>\n",
       "      <td>0.14</td>\n",
       "      <td>0.77</td>\n",
       "      <td>54895.0</td>\n",
       "      <td>$</td>\n",
       "      <td>NaN</td>\n",
       "      <td>58</td>\n",
       "    </tr>\n",
       "    <tr>\n",
       "      <th>57</th>\n",
       "      <td>Gifts for Women, Unique Spa Gift Basket Set fo...</td>\n",
       "      <td>MADDIFY</td>\n",
       "      <td>0.04</td>\n",
       "      <td>0.17</td>\n",
       "      <td>0.77</td>\n",
       "      <td>132.0</td>\n",
       "      <td>$</td>\n",
       "      <td>NaN</td>\n",
       "      <td>60</td>\n",
       "    </tr>\n",
       "    <tr>\n",
       "      <th>59</th>\n",
       "      <td>Nut Cravings Gourmet Collection - Valentines D...</td>\n",
       "      <td>Nut Cravings</td>\n",
       "      <td>0.06</td>\n",
       "      <td>0.12</td>\n",
       "      <td>0.70</td>\n",
       "      <td>19537.0</td>\n",
       "      <td>$</td>\n",
       "      <td>NaN</td>\n",
       "      <td>93</td>\n",
       "    </tr>\n",
       "    <tr>\n",
       "      <th>60</th>\n",
       "      <td>ChunRun Valentines Day Gifts - Drive Safe Keyc...</td>\n",
       "      <td>ChunRun</td>\n",
       "      <td>0.04</td>\n",
       "      <td>0.06</td>\n",
       "      <td>0.85</td>\n",
       "      <td>54.0</td>\n",
       "      <td>$</td>\n",
       "      <td>NaN</td>\n",
       "      <td>52</td>\n",
       "    </tr>\n",
       "    <tr>\n",
       "      <th>63</th>\n",
       "      <td>REESESValentines Day Milk Chocolate Peanut But...</td>\n",
       "      <td>CHAIN &amp; JO SWEETS</td>\n",
       "      <td>0.06</td>\n",
       "      <td>0.09</td>\n",
       "      <td>0.67</td>\n",
       "      <td>161.0</td>\n",
       "      <td>$</td>\n",
       "      <td>NaN</td>\n",
       "      <td>91</td>\n",
       "    </tr>\n",
       "    <tr>\n",
       "      <th>64</th>\n",
       "      <td>Starburst All Pink Chewy Candy Variety Pack Va...</td>\n",
       "      <td>JO SWEETS</td>\n",
       "      <td>0.07</td>\n",
       "      <td>0.13</td>\n",
       "      <td>0.50</td>\n",
       "      <td>63.0</td>\n",
       "      <td>$</td>\n",
       "      <td>NaN</td>\n",
       "      <td>85</td>\n",
       "    </tr>\n",
       "    <tr>\n",
       "      <th>72</th>\n",
       "      <td>Shower Steamers Aromatherapy Valentines Day Gi...</td>\n",
       "      <td>SWCANDY</td>\n",
       "      <td>0.09</td>\n",
       "      <td>0.10</td>\n",
       "      <td>0.72</td>\n",
       "      <td>3082.0</td>\n",
       "      <td>$</td>\n",
       "      <td>NaN</td>\n",
       "      <td>76</td>\n",
       "    </tr>\n",
       "    <tr>\n",
       "      <th>77</th>\n",
       "      <td>Childom Valentines Day Gifts for Her,Birthday ...</td>\n",
       "      <td>Childom</td>\n",
       "      <td>0.04</td>\n",
       "      <td>0.10</td>\n",
       "      <td>0.83</td>\n",
       "      <td>18440.0</td>\n",
       "      <td>$</td>\n",
       "      <td>NaN</td>\n",
       "      <td>69</td>\n",
       "    </tr>\n",
       "    <tr>\n",
       "      <th>84</th>\n",
       "      <td>ChocZero Keto Chocolate Truffle Gift - Premium...</td>\n",
       "      <td>ChocZero</td>\n",
       "      <td>0.05</td>\n",
       "      <td>0.10</td>\n",
       "      <td>0.77</td>\n",
       "      <td>370.0</td>\n",
       "      <td>$</td>\n",
       "      <td>NaN</td>\n",
       "      <td>64</td>\n",
       "    </tr>\n",
       "    <tr>\n",
       "      <th>85</th>\n",
       "      <td>HERSHEY'S HUGS &amp; KISSES Assorted Flavored, Val...</td>\n",
       "      <td>HERSHEY'S</td>\n",
       "      <td>0.04</td>\n",
       "      <td>0.09</td>\n",
       "      <td>0.85</td>\n",
       "      <td>1647.0</td>\n",
       "      <td>$</td>\n",
       "      <td>NaN</td>\n",
       "      <td>61</td>\n",
       "    </tr>\n",
       "    <tr>\n",
       "      <th>86</th>\n",
       "      <td>Kinder Bueno Mini, Milk Chocolate and Hazelnut...</td>\n",
       "      <td>Kinder Bueno</td>\n",
       "      <td>0.02</td>\n",
       "      <td>0.06</td>\n",
       "      <td>0.88</td>\n",
       "      <td>11111.0</td>\n",
       "      <td>$</td>\n",
       "      <td>NaN</td>\n",
       "      <td>63</td>\n",
       "    </tr>\n",
       "    <tr>\n",
       "      <th>89</th>\n",
       "      <td>Gifts for Women, Mom - Relaxing Spa Gift Baske...</td>\n",
       "      <td>CITTA</td>\n",
       "      <td>0.02</td>\n",
       "      <td>0.08</td>\n",
       "      <td>0.88</td>\n",
       "      <td>567.0</td>\n",
       "      <td>$</td>\n",
       "      <td>NaN</td>\n",
       "      <td>81</td>\n",
       "    </tr>\n",
       "    <tr>\n",
       "      <th>95</th>\n",
       "      <td>Ferrero Collection, 16 Count, Assorted Milk an...</td>\n",
       "      <td>Ferrero Rocher</td>\n",
       "      <td>0.03</td>\n",
       "      <td>0.09</td>\n",
       "      <td>0.85</td>\n",
       "      <td>29239.0</td>\n",
       "      <td>$</td>\n",
       "      <td>NaN</td>\n",
       "      <td>86</td>\n",
       "    </tr>\n",
       "    <tr>\n",
       "      <th>96</th>\n",
       "      <td>28 Packs Valentines Day Greeting Cards with Cu...</td>\n",
       "      <td>DINESIL</td>\n",
       "      <td>0.09</td>\n",
       "      <td>0.15</td>\n",
       "      <td>0.70</td>\n",
       "      <td>215.0</td>\n",
       "      <td>$</td>\n",
       "      <td>NaN</td>\n",
       "      <td>80</td>\n",
       "    </tr>\n",
       "    <tr>\n",
       "      <th>107</th>\n",
       "      <td>Pusuny Valentines Day Gifts for Her, Galaxy Gl...</td>\n",
       "      <td>Pusuny</td>\n",
       "      <td>0.06</td>\n",
       "      <td>0.10</td>\n",
       "      <td>0.80</td>\n",
       "      <td>578.0</td>\n",
       "      <td>$</td>\n",
       "      <td>NaN</td>\n",
       "      <td>110</td>\n",
       "    </tr>\n",
       "    <tr>\n",
       "      <th>115</th>\n",
       "      <td>Valentines Day Gifts for Her Preserved Red Rea...</td>\n",
       "      <td>TRAALL</td>\n",
       "      <td>0.04</td>\n",
       "      <td>0.06</td>\n",
       "      <td>0.85</td>\n",
       "      <td>140.0</td>\n",
       "      <td>$</td>\n",
       "      <td>NaN</td>\n",
       "      <td>122</td>\n",
       "    </tr>\n",
       "    <tr>\n",
       "      <th>116</th>\n",
       "      <td>Inspirational Bracelets for Women Natural Ston...</td>\n",
       "      <td>Pingyongchang</td>\n",
       "      <td>0.03</td>\n",
       "      <td>0.12</td>\n",
       "      <td>0.80</td>\n",
       "      <td>98.0</td>\n",
       "      <td>$</td>\n",
       "      <td>NaN</td>\n",
       "      <td>131</td>\n",
       "    </tr>\n",
       "    <tr>\n",
       "      <th>119</th>\n",
       "      <td>LParkin Drive Safe Keychain Handsome I Love Yo...</td>\n",
       "      <td>LParkin</td>\n",
       "      <td>0.03</td>\n",
       "      <td>0.08</td>\n",
       "      <td>0.88</td>\n",
       "      <td>11974.0</td>\n",
       "      <td>$</td>\n",
       "      <td>NaN</td>\n",
       "      <td>115</td>\n",
       "    </tr>\n",
       "    <tr>\n",
       "      <th>122</th>\n",
       "      <td>Valentines Day Gifts for Her Heart Earrigns Lo...</td>\n",
       "      <td>BSJELL</td>\n",
       "      <td>0.05</td>\n",
       "      <td>0.10</td>\n",
       "      <td>0.80</td>\n",
       "      <td>51.0</td>\n",
       "      <td>$</td>\n",
       "      <td>NaN</td>\n",
       "      <td>117</td>\n",
       "    </tr>\n",
       "    <tr>\n",
       "      <th>133</th>\n",
       "      <td>Valentines Day Cards for Kids- 24 Set of Butte...</td>\n",
       "      <td>AuroTops</td>\n",
       "      <td>0.10</td>\n",
       "      <td>0.05</td>\n",
       "      <td>0.70</td>\n",
       "      <td>49.0</td>\n",
       "      <td>$</td>\n",
       "      <td>NaN</td>\n",
       "      <td>104</td>\n",
       "    </tr>\n",
       "    <tr>\n",
       "      <th>158</th>\n",
       "      <td>Turandoss Valentines Day Gifts for Kids Girls ...</td>\n",
       "      <td>Turandoss</td>\n",
       "      <td>0.06</td>\n",
       "      <td>0.12</td>\n",
       "      <td>0.77</td>\n",
       "      <td>11041.0</td>\n",
       "      <td>$</td>\n",
       "      <td>NaN</td>\n",
       "      <td>102</td>\n",
       "    </tr>\n",
       "    <tr>\n",
       "      <th>165</th>\n",
       "      <td>HOME SMILE Ceramic Ring Dish Jewelry Tray for ...</td>\n",
       "      <td>HOME SMILE</td>\n",
       "      <td>0.03</td>\n",
       "      <td>0.09</td>\n",
       "      <td>0.87</td>\n",
       "      <td>24615.0</td>\n",
       "      <td>$</td>\n",
       "      <td>NaN</td>\n",
       "      <td>240</td>\n",
       "    </tr>\n",
       "    <tr>\n",
       "      <th>171</th>\n",
       "      <td>SOUR PATCH KIDS Original and Watermelon Soft &amp;...</td>\n",
       "      <td>Sour Patch Kids</td>\n",
       "      <td>0.04</td>\n",
       "      <td>0.10</td>\n",
       "      <td>0.83</td>\n",
       "      <td>461.0</td>\n",
       "      <td>$</td>\n",
       "      <td>NaN</td>\n",
       "      <td>247</td>\n",
       "    </tr>\n",
       "    <tr>\n",
       "      <th>173</th>\n",
       "      <td>Winlyn 112 Pcs Valentine's Day Stationery Toy ...</td>\n",
       "      <td>Winlyn</td>\n",
       "      <td>0.11</td>\n",
       "      <td>0.07</td>\n",
       "      <td>0.82</td>\n",
       "      <td>23.0</td>\n",
       "      <td>$</td>\n",
       "      <td>NaN</td>\n",
       "      <td>228</td>\n",
       "    </tr>\n",
       "    <tr>\n",
       "      <th>174</th>\n",
       "      <td>Iefil Valentines Day Gifts for Her - 925 Sterl...</td>\n",
       "      <td>Iefil</td>\n",
       "      <td>0.06</td>\n",
       "      <td>0.13</td>\n",
       "      <td>0.73</td>\n",
       "      <td>1487.0</td>\n",
       "      <td>$</td>\n",
       "      <td>NaN</td>\n",
       "      <td>285</td>\n",
       "    </tr>\n",
       "    <tr>\n",
       "      <th>185</th>\n",
       "      <td>VANLOVEMAC Valentines Day Gift Keychain for Hu...</td>\n",
       "      <td>VANLOVEMAC</td>\n",
       "      <td>0.03</td>\n",
       "      <td>0.08</td>\n",
       "      <td>0.86</td>\n",
       "      <td>4425.0</td>\n",
       "      <td>$</td>\n",
       "      <td>NaN</td>\n",
       "      <td>225</td>\n",
       "    </tr>\n",
       "    <tr>\n",
       "      <th>186</th>\n",
       "      <td>Shemira 30 Pack Valentines Day Cards for Kids ...</td>\n",
       "      <td>Shemira</td>\n",
       "      <td>0.08</td>\n",
       "      <td>0.07</td>\n",
       "      <td>0.77</td>\n",
       "      <td>95.0</td>\n",
       "      <td>$</td>\n",
       "      <td>NaN</td>\n",
       "      <td>288</td>\n",
       "    </tr>\n",
       "    <tr>\n",
       "      <th>189</th>\n",
       "      <td>Limited Edition M and M’s Milk Chocolate Bark,...</td>\n",
       "      <td>Morris National Inc</td>\n",
       "      <td>0.38</td>\n",
       "      <td>0.00</td>\n",
       "      <td>0.62</td>\n",
       "      <td>3.0</td>\n",
       "      <td>$</td>\n",
       "      <td>NaN</td>\n",
       "      <td>261</td>\n",
       "    </tr>\n",
       "    <tr>\n",
       "      <th>190</th>\n",
       "      <td>DEEMEI Valentines Day Gifts for Her, Valentine...</td>\n",
       "      <td>DEEMEI</td>\n",
       "      <td>0.03</td>\n",
       "      <td>0.10</td>\n",
       "      <td>0.84</td>\n",
       "      <td>1494.0</td>\n",
       "      <td>$</td>\n",
       "      <td>NaN</td>\n",
       "      <td>272</td>\n",
       "    </tr>\n",
       "    <tr>\n",
       "      <th>191</th>\n",
       "      <td>Hershys Milk Chocolate Candy Valentines Day Gi...</td>\n",
       "      <td>CHAIN &amp; JO SWEETS</td>\n",
       "      <td>0.00</td>\n",
       "      <td>0.00</td>\n",
       "      <td>1.00</td>\n",
       "      <td>2.0</td>\n",
       "      <td>$</td>\n",
       "      <td>NaN</td>\n",
       "      <td>278</td>\n",
       "    </tr>\n",
       "    <tr>\n",
       "      <th>193</th>\n",
       "      <td>Vegan Valentine's Day Gift Bag - Prefilled Bag...</td>\n",
       "      <td>BUNNY · JAMES ·</td>\n",
       "      <td>0.12</td>\n",
       "      <td>0.10</td>\n",
       "      <td>0.65</td>\n",
       "      <td>153.0</td>\n",
       "      <td>$</td>\n",
       "      <td>NaN</td>\n",
       "      <td>260</td>\n",
       "    </tr>\n",
       "    <tr>\n",
       "      <th>194</th>\n",
       "      <td>Hershys Milk Chocolate Hearts Bar 2.5oz - 6PK ...</td>\n",
       "      <td>CHAIN &amp; JO SWEETS</td>\n",
       "      <td>0.00</td>\n",
       "      <td>0.00</td>\n",
       "      <td>1.00</td>\n",
       "      <td>1.0</td>\n",
       "      <td>$</td>\n",
       "      <td>NaN</td>\n",
       "      <td>283</td>\n",
       "    </tr>\n",
       "    <tr>\n",
       "      <th>214</th>\n",
       "      <td>THEMEROL Natural Gemstone Bracelet Gifts for D...</td>\n",
       "      <td>THEMEROL</td>\n",
       "      <td>0.03</td>\n",
       "      <td>0.07</td>\n",
       "      <td>0.87</td>\n",
       "      <td>140.0</td>\n",
       "      <td>$</td>\n",
       "      <td>NaN</td>\n",
       "      <td>300</td>\n",
       "    </tr>\n",
       "  </tbody>\n",
       "</table>\n",
       "</div>"
      ],
      "text/plain": [
       "                                                 title                  brand  \\\n",
       "16   I LOVE YOU Red Valentine Chocolate Dipped Oreo...  Olde Naples Chocolate   \n",
       "18   Ferrero Collection, 12 Count, Assorted Milk an...         Ferrero Rocher   \n",
       "20   Marycele Candle Warmer Lamp, Electric Candle L...               Marycele   \n",
       "24   SKITTLES Valentine's Day Wild Berry Chewy Cand...               Skittles   \n",
       "27   EGD Acrylic Personalized Gifts Spotify Plaque ...                    EGD   \n",
       "29   Burt's Bees Essential Everyday Beauty Valentin...            Burt's Bees   \n",
       "33   Candles Gifts for Her Funny Novelty Unique Val...                BFJLIFE   \n",
       "36   EBMORE Womens Fuzzy Socks Slipper Soft Cabin P...                 EBMORE   \n",
       "38   Valentine's Day Gift Care Package (50ct) Snack...               CRAVEBOX   \n",
       "39   LUCKOR Personalized Valentines Day Gifts for H...                 LUCKOR   \n",
       "41   LEGO Heart Ornament Building Toy Kit, Heart Sh...                   LEGO   \n",
       "42   HERSHEY'S and REESE'S Assorted Chocolate, Vale...              HERSHEY'S   \n",
       "43   Ferrero Rocher, 42 Count, Gourmet Milk Chocola...         Ferrero Rocher   \n",
       "46   LEGO Icons Wildflower Bouquet Botanical Collec...                   LEGO   \n",
       "51   Valentine’s Candy Variety Pack 18 Count: Bulk ...   Bazooka Candy Brands   \n",
       "52   Valentines Day Gifts Movie Night Popcorn Gift ...           Pop n' Dulge   \n",
       "54   BAIMEI Jade Roller & Gua Sha, Face Roller Redn...                 BAIMEI   \n",
       "57   Gifts for Women, Unique Spa Gift Basket Set fo...                MADDIFY   \n",
       "59   Nut Cravings Gourmet Collection - Valentines D...           Nut Cravings   \n",
       "60   ChunRun Valentines Day Gifts - Drive Safe Keyc...                ChunRun   \n",
       "63   REESESValentines Day Milk Chocolate Peanut But...      CHAIN & JO SWEETS   \n",
       "64   Starburst All Pink Chewy Candy Variety Pack Va...              JO SWEETS   \n",
       "72   Shower Steamers Aromatherapy Valentines Day Gi...                SWCANDY   \n",
       "77   Childom Valentines Day Gifts for Her,Birthday ...                Childom   \n",
       "84   ChocZero Keto Chocolate Truffle Gift - Premium...               ChocZero   \n",
       "85   HERSHEY'S HUGS & KISSES Assorted Flavored, Val...              HERSHEY'S   \n",
       "86   Kinder Bueno Mini, Milk Chocolate and Hazelnut...           Kinder Bueno   \n",
       "89   Gifts for Women, Mom - Relaxing Spa Gift Baske...                  CITTA   \n",
       "95   Ferrero Collection, 16 Count, Assorted Milk an...         Ferrero Rocher   \n",
       "96   28 Packs Valentines Day Greeting Cards with Cu...                DINESIL   \n",
       "107  Pusuny Valentines Day Gifts for Her, Galaxy Gl...                 Pusuny   \n",
       "115  Valentines Day Gifts for Her Preserved Red Rea...                 TRAALL   \n",
       "116  Inspirational Bracelets for Women Natural Ston...          Pingyongchang   \n",
       "119  LParkin Drive Safe Keychain Handsome I Love Yo...                LParkin   \n",
       "122  Valentines Day Gifts for Her Heart Earrigns Lo...                 BSJELL   \n",
       "133  Valentines Day Cards for Kids- 24 Set of Butte...               AuroTops   \n",
       "158  Turandoss Valentines Day Gifts for Kids Girls ...              Turandoss   \n",
       "165  HOME SMILE Ceramic Ring Dish Jewelry Tray for ...             HOME SMILE   \n",
       "171  SOUR PATCH KIDS Original and Watermelon Soft &...        Sour Patch Kids   \n",
       "173  Winlyn 112 Pcs Valentine's Day Stationery Toy ...                 Winlyn   \n",
       "174  Iefil Valentines Day Gifts for Her - 925 Sterl...                  Iefil   \n",
       "185  VANLOVEMAC Valentines Day Gift Keychain for Hu...             VANLOVEMAC   \n",
       "186  Shemira 30 Pack Valentines Day Cards for Kids ...                Shemira   \n",
       "189  Limited Edition M and M’s Milk Chocolate Bark,...    Morris National Inc   \n",
       "190  DEEMEI Valentines Day Gifts for Her, Valentine...                 DEEMEI   \n",
       "191  Hershys Milk Chocolate Candy Valentines Day Gi...      CHAIN & JO SWEETS   \n",
       "193  Vegan Valentine's Day Gift Bag - Prefilled Bag...        BUNNY · JAMES ·   \n",
       "194  Hershys Milk Chocolate Hearts Bar 2.5oz - 6PK ...      CHAIN & JO SWEETS   \n",
       "214  THEMEROL Natural Gemstone Bracelet Gifts for D...               THEMEROL   \n",
       "\n",
       "     starsBreakdown/3star  starsBreakdown/4star  starsBreakdown/5star  \\\n",
       "16                   0.07                  0.10                  0.74   \n",
       "18                   0.04                  0.09                  0.84   \n",
       "20                   0.05                  0.07                  0.78   \n",
       "24                   0.05                  0.10                  0.79   \n",
       "27                   0.06                  0.10                  0.72   \n",
       "29                   0.04                  0.11                  0.83   \n",
       "33                   0.07                  0.12                  0.73   \n",
       "36                   0.04                  0.10                  0.82   \n",
       "38                   0.06                  0.11                  0.77   \n",
       "39                   0.04                  0.08                  0.75   \n",
       "41                   0.02                  0.07                  0.87   \n",
       "42                   0.04                  0.09                  0.84   \n",
       "43                   0.02                  0.06                  0.89   \n",
       "46                   0.01                  0.04                  0.94   \n",
       "51                   0.03                  0.08                  0.86   \n",
       "52                   0.09                  0.15                  0.69   \n",
       "54                   0.06                  0.14                  0.77   \n",
       "57                   0.04                  0.17                  0.77   \n",
       "59                   0.06                  0.12                  0.70   \n",
       "60                   0.04                  0.06                  0.85   \n",
       "63                   0.06                  0.09                  0.67   \n",
       "64                   0.07                  0.13                  0.50   \n",
       "72                   0.09                  0.10                  0.72   \n",
       "77                   0.04                  0.10                  0.83   \n",
       "84                   0.05                  0.10                  0.77   \n",
       "85                   0.04                  0.09                  0.85   \n",
       "86                   0.02                  0.06                  0.88   \n",
       "89                   0.02                  0.08                  0.88   \n",
       "95                   0.03                  0.09                  0.85   \n",
       "96                   0.09                  0.15                  0.70   \n",
       "107                  0.06                  0.10                  0.80   \n",
       "115                  0.04                  0.06                  0.85   \n",
       "116                  0.03                  0.12                  0.80   \n",
       "119                  0.03                  0.08                  0.88   \n",
       "122                  0.05                  0.10                  0.80   \n",
       "133                  0.10                  0.05                  0.70   \n",
       "158                  0.06                  0.12                  0.77   \n",
       "165                  0.03                  0.09                  0.87   \n",
       "171                  0.04                  0.10                  0.83   \n",
       "173                  0.11                  0.07                  0.82   \n",
       "174                  0.06                  0.13                  0.73   \n",
       "185                  0.03                  0.08                  0.86   \n",
       "186                  0.08                  0.07                  0.77   \n",
       "189                  0.38                  0.00                  0.62   \n",
       "190                  0.03                  0.10                  0.84   \n",
       "191                  0.00                  0.00                  1.00   \n",
       "193                  0.12                  0.10                  0.65   \n",
       "194                  0.00                  0.00                  1.00   \n",
       "214                  0.03                  0.07                  0.87   \n",
       "\n",
       "     reviewsCount price/currency  price/value  \\\n",
       "16          474.0              $          NaN   \n",
       "18         4770.0              $          NaN   \n",
       "20         1121.0              $          NaN   \n",
       "24        19772.0              $          NaN   \n",
       "27         4717.0              $          NaN   \n",
       "29        40125.0              $          NaN   \n",
       "33          316.0              $          NaN   \n",
       "36         3214.0              $          NaN   \n",
       "38         2637.0              $          NaN   \n",
       "39          398.0              $          NaN   \n",
       "41          401.0              $          NaN   \n",
       "42         1586.0              $          NaN   \n",
       "43         9659.0              $          NaN   \n",
       "46         3510.0              $          NaN   \n",
       "51        27866.0              $          NaN   \n",
       "52          522.0              $          NaN   \n",
       "54        54895.0              $          NaN   \n",
       "57          132.0              $          NaN   \n",
       "59        19537.0              $          NaN   \n",
       "60           54.0              $          NaN   \n",
       "63          161.0              $          NaN   \n",
       "64           63.0              $          NaN   \n",
       "72         3082.0              $          NaN   \n",
       "77        18440.0              $          NaN   \n",
       "84          370.0              $          NaN   \n",
       "85         1647.0              $          NaN   \n",
       "86        11111.0              $          NaN   \n",
       "89          567.0              $          NaN   \n",
       "95        29239.0              $          NaN   \n",
       "96          215.0              $          NaN   \n",
       "107         578.0              $          NaN   \n",
       "115         140.0              $          NaN   \n",
       "116          98.0              $          NaN   \n",
       "119       11974.0              $          NaN   \n",
       "122          51.0              $          NaN   \n",
       "133          49.0              $          NaN   \n",
       "158       11041.0              $          NaN   \n",
       "165       24615.0              $          NaN   \n",
       "171         461.0              $          NaN   \n",
       "173          23.0              $          NaN   \n",
       "174        1487.0              $          NaN   \n",
       "185        4425.0              $          NaN   \n",
       "186          95.0              $          NaN   \n",
       "189           3.0              $          NaN   \n",
       "190        1494.0              $          NaN   \n",
       "191           2.0              $          NaN   \n",
       "193         153.0              $          NaN   \n",
       "194           1.0              $          NaN   \n",
       "214         140.0              $          NaN   \n",
       "\n",
       "     categoryPageData/productPosition  \n",
       "16                                 34  \n",
       "18                                 38  \n",
       "20                                 47  \n",
       "24                                 30  \n",
       "27                                 25  \n",
       "29                                 39  \n",
       "33                                 23  \n",
       "36                                 28  \n",
       "38                                 17  \n",
       "39                                  9  \n",
       "41                                 13  \n",
       "42                                  6  \n",
       "43                                 12  \n",
       "46                                  8  \n",
       "51                                 54  \n",
       "52                                 53  \n",
       "54                                 58  \n",
       "57                                 60  \n",
       "59                                 93  \n",
       "60                                 52  \n",
       "63                                 91  \n",
       "64                                 85  \n",
       "72                                 76  \n",
       "77                                 69  \n",
       "84                                 64  \n",
       "85                                 61  \n",
       "86                                 63  \n",
       "89                                 81  \n",
       "95                                 86  \n",
       "96                                 80  \n",
       "107                               110  \n",
       "115                               122  \n",
       "116                               131  \n",
       "119                               115  \n",
       "122                               117  \n",
       "133                               104  \n",
       "158                               102  \n",
       "165                               240  \n",
       "171                               247  \n",
       "173                               228  \n",
       "174                               285  \n",
       "185                               225  \n",
       "186                               288  \n",
       "189                               261  \n",
       "190                               272  \n",
       "191                               278  \n",
       "193                               260  \n",
       "194                               283  \n",
       "214                               300  "
      ]
     },
     "execution_count": 12,
     "metadata": {},
     "output_type": "execute_result"
    }
   ],
   "source": [
    "data[data[\"price/value\"].isnull()]"
   ]
  },
  {
   "cell_type": "code",
   "execution_count": 13,
   "id": "179431ee",
   "metadata": {
    "execution": {
     "iopub.execute_input": "2024-02-08T08:36:32.571641Z",
     "iopub.status.busy": "2024-02-08T08:36:32.571273Z",
     "iopub.status.idle": "2024-02-08T08:36:32.578787Z",
     "shell.execute_reply": "2024-02-08T08:36:32.577675Z"
    },
    "papermill": {
     "duration": 0.027501,
     "end_time": "2024-02-08T08:36:32.581195",
     "exception": false,
     "start_time": "2024-02-08T08:36:32.553694",
     "status": "completed"
    },
    "tags": []
   },
   "outputs": [
    {
     "data": {
      "text/plain": [
       "18.05"
      ]
     },
     "execution_count": 13,
     "metadata": {},
     "output_type": "execute_result"
    }
   ],
   "source": [
    "a = data[\"price/value\"].mean()\n",
    "b = round(a,2)\n",
    "b"
   ]
  },
  {
   "cell_type": "code",
   "execution_count": 14,
   "id": "95b9d61f",
   "metadata": {
    "execution": {
     "iopub.execute_input": "2024-02-08T08:36:32.615928Z",
     "iopub.status.busy": "2024-02-08T08:36:32.615571Z",
     "iopub.status.idle": "2024-02-08T08:36:32.621733Z",
     "shell.execute_reply": "2024-02-08T08:36:32.620641Z"
    },
    "papermill": {
     "duration": 0.026562,
     "end_time": "2024-02-08T08:36:32.624354",
     "exception": false,
     "start_time": "2024-02-08T08:36:32.597792",
     "status": "completed"
    },
    "tags": []
   },
   "outputs": [
    {
     "name": "stderr",
     "output_type": "stream",
     "text": [
      "/tmp/ipykernel_18/3129108119.py:1: FutureWarning: A value is trying to be set on a copy of a DataFrame or Series through chained assignment using an inplace method.\n",
      "The behavior will change in pandas 3.0. This inplace method will never work because the intermediate object on which we are setting values always behaves as a copy.\n",
      "\n",
      "For example, when doing 'df[col].method(value, inplace=True)', try using 'df.method({col: value}, inplace=True)' or df[col] = df[col].method(value) instead, to perform the operation inplace on the original object.\n",
      "\n",
      "\n",
      "  data[\"price/value\"].fillna(b,inplace = True)\n"
     ]
    }
   ],
   "source": [
    "data[\"price/value\"].fillna(b,inplace = True)"
   ]
  },
  {
   "cell_type": "code",
   "execution_count": 15,
   "id": "3953a54d",
   "metadata": {
    "execution": {
     "iopub.execute_input": "2024-02-08T08:36:32.659132Z",
     "iopub.status.busy": "2024-02-08T08:36:32.658326Z",
     "iopub.status.idle": "2024-02-08T08:36:32.665772Z",
     "shell.execute_reply": "2024-02-08T08:36:32.664549Z"
    },
    "papermill": {
     "duration": 0.027795,
     "end_time": "2024-02-08T08:36:32.668236",
     "exception": false,
     "start_time": "2024-02-08T08:36:32.640441",
     "status": "completed"
    },
    "tags": []
   },
   "outputs": [
    {
     "data": {
      "text/plain": [
       "0"
      ]
     },
     "execution_count": 15,
     "metadata": {},
     "output_type": "execute_result"
    }
   ],
   "source": [
    "data[\"price/value\"].isnull().sum()"
   ]
  },
  {
   "cell_type": "code",
   "execution_count": 16,
   "id": "73cdba85",
   "metadata": {
    "execution": {
     "iopub.execute_input": "2024-02-08T08:36:32.702586Z",
     "iopub.status.busy": "2024-02-08T08:36:32.702180Z",
     "iopub.status.idle": "2024-02-08T08:36:32.711324Z",
     "shell.execute_reply": "2024-02-08T08:36:32.710175Z"
    },
    "papermill": {
     "duration": 0.029013,
     "end_time": "2024-02-08T08:36:32.713574",
     "exception": false,
     "start_time": "2024-02-08T08:36:32.684561",
     "status": "completed"
    },
    "tags": []
   },
   "outputs": [
    {
     "data": {
      "text/plain": [
       "title                               0\n",
       "brand                               1\n",
       "starsBreakdown/3star                0\n",
       "starsBreakdown/4star                0\n",
       "starsBreakdown/5star                0\n",
       "reviewsCount                        2\n",
       "price/currency                      0\n",
       "price/value                         0\n",
       "categoryPageData/productPosition    0\n",
       "dtype: int64"
      ]
     },
     "execution_count": 16,
     "metadata": {},
     "output_type": "execute_result"
    }
   ],
   "source": [
    "data.isnull().sum()"
   ]
  },
  {
   "cell_type": "code",
   "execution_count": 17,
   "id": "83af105d",
   "metadata": {
    "execution": {
     "iopub.execute_input": "2024-02-08T08:36:32.748169Z",
     "iopub.status.busy": "2024-02-08T08:36:32.747714Z",
     "iopub.status.idle": "2024-02-08T08:36:32.754557Z",
     "shell.execute_reply": "2024-02-08T08:36:32.753344Z"
    },
    "papermill": {
     "duration": 0.02713,
     "end_time": "2024-02-08T08:36:32.757011",
     "exception": false,
     "start_time": "2024-02-08T08:36:32.729881",
     "status": "completed"
    },
    "tags": []
   },
   "outputs": [],
   "source": [
    "data1 = data[~(data.brand.isnull() | data[\"reviewsCount\"].isnull())]"
   ]
  },
  {
   "cell_type": "code",
   "execution_count": 18,
   "id": "f34f8ad6",
   "metadata": {
    "execution": {
     "iopub.execute_input": "2024-02-08T08:36:32.792414Z",
     "iopub.status.busy": "2024-02-08T08:36:32.791979Z",
     "iopub.status.idle": "2024-02-08T08:36:32.798217Z",
     "shell.execute_reply": "2024-02-08T08:36:32.797132Z"
    },
    "papermill": {
     "duration": 0.026716,
     "end_time": "2024-02-08T08:36:32.800715",
     "exception": false,
     "start_time": "2024-02-08T08:36:32.773999",
     "status": "completed"
    },
    "tags": []
   },
   "outputs": [
    {
     "data": {
      "text/plain": [
       "(215, 9)"
      ]
     },
     "execution_count": 18,
     "metadata": {},
     "output_type": "execute_result"
    }
   ],
   "source": [
    "data1.shape"
   ]
  },
  {
   "cell_type": "code",
   "execution_count": 19,
   "id": "9e4c9803",
   "metadata": {
    "execution": {
     "iopub.execute_input": "2024-02-08T08:36:32.836033Z",
     "iopub.status.busy": "2024-02-08T08:36:32.835621Z",
     "iopub.status.idle": "2024-02-08T08:36:32.843166Z",
     "shell.execute_reply": "2024-02-08T08:36:32.841902Z"
    },
    "papermill": {
     "duration": 0.028311,
     "end_time": "2024-02-08T08:36:32.845755",
     "exception": false,
     "start_time": "2024-02-08T08:36:32.817444",
     "status": "completed"
    },
    "tags": []
   },
   "outputs": [
    {
     "data": {
      "text/plain": [
       "Index(['title', 'brand', 'starsBreakdown/3star', 'starsBreakdown/4star',\n",
       "       'starsBreakdown/5star', 'reviewsCount', 'price/currency', 'price/value',\n",
       "       'categoryPageData/productPosition'],\n",
       "      dtype='object')"
      ]
     },
     "execution_count": 19,
     "metadata": {},
     "output_type": "execute_result"
    }
   ],
   "source": [
    "data1.columns"
   ]
  },
  {
   "cell_type": "code",
   "execution_count": 20,
   "id": "54c97643",
   "metadata": {
    "execution": {
     "iopub.execute_input": "2024-02-08T08:36:32.881000Z",
     "iopub.status.busy": "2024-02-08T08:36:32.880571Z",
     "iopub.status.idle": "2024-02-08T08:36:32.886966Z",
     "shell.execute_reply": "2024-02-08T08:36:32.886162Z"
    },
    "papermill": {
     "duration": 0.026879,
     "end_time": "2024-02-08T08:36:32.889505",
     "exception": false,
     "start_time": "2024-02-08T08:36:32.862626",
     "status": "completed"
    },
    "tags": []
   },
   "outputs": [
    {
     "name": "stderr",
     "output_type": "stream",
     "text": [
      "/tmp/ipykernel_18/738757908.py:1: SettingWithCopyWarning: \n",
      "A value is trying to be set on a copy of a slice from a DataFrame\n",
      "\n",
      "See the caveats in the documentation: https://pandas.pydata.org/pandas-docs/stable/user_guide/indexing.html#returning-a-view-versus-a-copy\n",
      "  data1.drop(['categoryPageData/productPosition'], axis = 1, inplace = True)\n"
     ]
    }
   ],
   "source": [
    "data1.drop(['categoryPageData/productPosition'], axis = 1, inplace = True)"
   ]
  },
  {
   "cell_type": "code",
   "execution_count": 21,
   "id": "801a249c",
   "metadata": {
    "execution": {
     "iopub.execute_input": "2024-02-08T08:36:32.924902Z",
     "iopub.status.busy": "2024-02-08T08:36:32.924493Z",
     "iopub.status.idle": "2024-02-08T08:36:32.931268Z",
     "shell.execute_reply": "2024-02-08T08:36:32.930022Z"
    },
    "papermill": {
     "duration": 0.027339,
     "end_time": "2024-02-08T08:36:32.933762",
     "exception": false,
     "start_time": "2024-02-08T08:36:32.906423",
     "status": "completed"
    },
    "tags": []
   },
   "outputs": [
    {
     "name": "stderr",
     "output_type": "stream",
     "text": [
      "/tmp/ipykernel_18/3949488661.py:1: SettingWithCopyWarning: \n",
      "A value is trying to be set on a copy of a slice from a DataFrame\n",
      "\n",
      "See the caveats in the documentation: https://pandas.pydata.org/pandas-docs/stable/user_guide/indexing.html#returning-a-view-versus-a-copy\n",
      "  data1.drop([\"price/currency\"], axis = 1, inplace = True)\n"
     ]
    }
   ],
   "source": [
    "data1.drop([\"price/currency\"], axis = 1, inplace = True)"
   ]
  },
  {
   "cell_type": "code",
   "execution_count": 22,
   "id": "83b6ff52",
   "metadata": {
    "execution": {
     "iopub.execute_input": "2024-02-08T08:36:32.970872Z",
     "iopub.status.busy": "2024-02-08T08:36:32.970446Z",
     "iopub.status.idle": "2024-02-08T08:36:32.987933Z",
     "shell.execute_reply": "2024-02-08T08:36:32.986792Z"
    },
    "papermill": {
     "duration": 0.039594,
     "end_time": "2024-02-08T08:36:32.990308",
     "exception": false,
     "start_time": "2024-02-08T08:36:32.950714",
     "status": "completed"
    },
    "tags": []
   },
   "outputs": [
    {
     "data": {
      "text/html": [
       "<div>\n",
       "<style scoped>\n",
       "    .dataframe tbody tr th:only-of-type {\n",
       "        vertical-align: middle;\n",
       "    }\n",
       "\n",
       "    .dataframe tbody tr th {\n",
       "        vertical-align: top;\n",
       "    }\n",
       "\n",
       "    .dataframe thead th {\n",
       "        text-align: right;\n",
       "    }\n",
       "</style>\n",
       "<table border=\"1\" class=\"dataframe\">\n",
       "  <thead>\n",
       "    <tr style=\"text-align: right;\">\n",
       "      <th></th>\n",
       "      <th>title</th>\n",
       "      <th>brand</th>\n",
       "      <th>starsBreakdown/3star</th>\n",
       "      <th>starsBreakdown/4star</th>\n",
       "      <th>starsBreakdown/5star</th>\n",
       "      <th>reviewsCount</th>\n",
       "      <th>price/value</th>\n",
       "    </tr>\n",
       "  </thead>\n",
       "  <tbody>\n",
       "    <tr>\n",
       "      <th>0</th>\n",
       "      <td>Ferrero Rocher, 24 Count, Premium Milk Chocola...</td>\n",
       "      <td>Ferrero Rocher</td>\n",
       "      <td>0.02</td>\n",
       "      <td>0.07</td>\n",
       "      <td>0.89</td>\n",
       "      <td>20021.0</td>\n",
       "      <td>11.39</td>\n",
       "    </tr>\n",
       "    <tr>\n",
       "      <th>1</th>\n",
       "      <td>HERSHEY'S NUGGETS Assorted Chocolate, Valentin...</td>\n",
       "      <td>HERSHEY'S</td>\n",
       "      <td>0.03</td>\n",
       "      <td>0.10</td>\n",
       "      <td>0.84</td>\n",
       "      <td>18891.0</td>\n",
       "      <td>10.69</td>\n",
       "    </tr>\n",
       "    <tr>\n",
       "      <th>2</th>\n",
       "      <td>LEGO Icons Flower Bouquet Building Decoration ...</td>\n",
       "      <td>LEGO</td>\n",
       "      <td>0.01</td>\n",
       "      <td>0.05</td>\n",
       "      <td>0.92</td>\n",
       "      <td>19395.0</td>\n",
       "      <td>47.99</td>\n",
       "    </tr>\n",
       "    <tr>\n",
       "      <th>3</th>\n",
       "      <td>BodyRefresh Shower Steamers Aromatherapy - 8 P...</td>\n",
       "      <td>BodyRefresh</td>\n",
       "      <td>0.07</td>\n",
       "      <td>0.15</td>\n",
       "      <td>0.67</td>\n",
       "      <td>593.0</td>\n",
       "      <td>9.99</td>\n",
       "    </tr>\n",
       "    <tr>\n",
       "      <th>4</th>\n",
       "      <td>JoJowell Shower Steamers Aromatherapy - 21Pcs ...</td>\n",
       "      <td>JoJowell</td>\n",
       "      <td>0.10</td>\n",
       "      <td>0.15</td>\n",
       "      <td>0.63</td>\n",
       "      <td>816.0</td>\n",
       "      <td>21.99</td>\n",
       "    </tr>\n",
       "  </tbody>\n",
       "</table>\n",
       "</div>"
      ],
      "text/plain": [
       "                                               title           brand  \\\n",
       "0  Ferrero Rocher, 24 Count, Premium Milk Chocola...  Ferrero Rocher   \n",
       "1  HERSHEY'S NUGGETS Assorted Chocolate, Valentin...       HERSHEY'S   \n",
       "2  LEGO Icons Flower Bouquet Building Decoration ...            LEGO   \n",
       "3  BodyRefresh Shower Steamers Aromatherapy - 8 P...     BodyRefresh   \n",
       "4  JoJowell Shower Steamers Aromatherapy - 21Pcs ...        JoJowell   \n",
       "\n",
       "   starsBreakdown/3star  starsBreakdown/4star  starsBreakdown/5star  \\\n",
       "0                  0.02                  0.07                  0.89   \n",
       "1                  0.03                  0.10                  0.84   \n",
       "2                  0.01                  0.05                  0.92   \n",
       "3                  0.07                  0.15                  0.67   \n",
       "4                  0.10                  0.15                  0.63   \n",
       "\n",
       "   reviewsCount  price/value  \n",
       "0       20021.0        11.39  \n",
       "1       18891.0        10.69  \n",
       "2       19395.0        47.99  \n",
       "3         593.0         9.99  \n",
       "4         816.0        21.99  "
      ]
     },
     "execution_count": 22,
     "metadata": {},
     "output_type": "execute_result"
    }
   ],
   "source": [
    "data1.head()"
   ]
  },
  {
   "cell_type": "code",
   "execution_count": 23,
   "id": "d9131192",
   "metadata": {
    "execution": {
     "iopub.execute_input": "2024-02-08T08:36:33.027244Z",
     "iopub.status.busy": "2024-02-08T08:36:33.026790Z",
     "iopub.status.idle": "2024-02-08T08:36:33.032319Z",
     "shell.execute_reply": "2024-02-08T08:36:33.031086Z"
    },
    "papermill": {
     "duration": 0.027145,
     "end_time": "2024-02-08T08:36:33.034702",
     "exception": false,
     "start_time": "2024-02-08T08:36:33.007557",
     "status": "completed"
    },
    "tags": []
   },
   "outputs": [],
   "source": [
    "import warnings\n",
    "warnings.filterwarnings(\"ignore\")"
   ]
  },
  {
   "cell_type": "code",
   "execution_count": 24,
   "id": "c30e35b2",
   "metadata": {
    "execution": {
     "iopub.execute_input": "2024-02-08T08:36:33.073560Z",
     "iopub.status.busy": "2024-02-08T08:36:33.071137Z",
     "iopub.status.idle": "2024-02-08T08:36:33.550577Z",
     "shell.execute_reply": "2024-02-08T08:36:33.549291Z"
    },
    "papermill": {
     "duration": 0.500981,
     "end_time": "2024-02-08T08:36:33.553442",
     "exception": false,
     "start_time": "2024-02-08T08:36:33.052461",
     "status": "completed"
    },
    "tags": []
   },
   "outputs": [
    {
     "data": {
      "image/png": "[encoded data removed]",
      "text/plain": [
       "<Figure size 500x500 with 1 Axes>"
      ]
     },
     "metadata": {},
     "output_type": "display_data"
    }
   ],
   "source": [
    "sns.displot(data = data1, x = \"price/value\", bins = 30)\n",
    "plt.show()"
   ]
  },
  {
   "cell_type": "code",
   "execution_count": 25,
   "id": "aa4777b5",
   "metadata": {
    "execution": {
     "iopub.execute_input": "2024-02-08T08:36:33.591306Z",
     "iopub.status.busy": "2024-02-08T08:36:33.590862Z",
     "iopub.status.idle": "2024-02-08T08:36:33.748760Z",
     "shell.execute_reply": "2024-02-08T08:36:33.747514Z"
    },
    "papermill": {
     "duration": 0.17995,
     "end_time": "2024-02-08T08:36:33.751718",
     "exception": false,
     "start_time": "2024-02-08T08:36:33.571768",
     "status": "completed"
    },
    "tags": []
   },
   "outputs": [
    {
     "data": {
      "image/png": "[encoded data removed]",
      "text/plain": [
       "<Figure size 640x480 with 1 Axes>"
      ]
     },
     "metadata": {},
     "output_type": "display_data"
    }
   ],
   "source": [
    "sns.boxplot(data = data1, x = \"price/value\")\n",
    "plt.show()"
   ]
  },
  {
   "cell_type": "code",
   "execution_count": 26,
   "id": "3b3244ac",
   "metadata": {
    "execution": {
     "iopub.execute_input": "2024-02-08T08:36:33.790481Z",
     "iopub.status.busy": "2024-02-08T08:36:33.790057Z",
     "iopub.status.idle": "2024-02-08T08:36:33.811905Z",
     "shell.execute_reply": "2024-02-08T08:36:33.810690Z"
    },
    "papermill": {
     "duration": 0.04377,
     "end_time": "2024-02-08T08:36:33.814473",
     "exception": false,
     "start_time": "2024-02-08T08:36:33.770703",
     "status": "completed"
    },
    "tags": []
   },
   "outputs": [
    {
     "data": {
      "text/html": [
       "<div>\n",
       "<style scoped>\n",
       "    .dataframe tbody tr th:only-of-type {\n",
       "        vertical-align: middle;\n",
       "    }\n",
       "\n",
       "    .dataframe tbody tr th {\n",
       "        vertical-align: top;\n",
       "    }\n",
       "\n",
       "    .dataframe thead th {\n",
       "        text-align: right;\n",
       "    }\n",
       "</style>\n",
       "<table border=\"1\" class=\"dataframe\">\n",
       "  <thead>\n",
       "    <tr style=\"text-align: right;\">\n",
       "      <th></th>\n",
       "      <th>title</th>\n",
       "      <th>brand</th>\n",
       "      <th>starsBreakdown/3star</th>\n",
       "      <th>starsBreakdown/4star</th>\n",
       "      <th>starsBreakdown/5star</th>\n",
       "      <th>reviewsCount</th>\n",
       "      <th>price/value</th>\n",
       "    </tr>\n",
       "  </thead>\n",
       "  <tbody>\n",
       "    <tr>\n",
       "      <th>2</th>\n",
       "      <td>LEGO Icons Flower Bouquet Building Decoration ...</td>\n",
       "      <td>LEGO</td>\n",
       "      <td>0.01</td>\n",
       "      <td>0.05</td>\n",
       "      <td>0.92</td>\n",
       "      <td>19395.0</td>\n",
       "      <td>47.99</td>\n",
       "    </tr>\n",
       "    <tr>\n",
       "      <th>73</th>\n",
       "      <td>GLAMOUR BOUTIQUE 27-Piece Forever Flowers Hear...</td>\n",
       "      <td>GLAMOUR BOUTIQUE</td>\n",
       "      <td>0.04</td>\n",
       "      <td>0.07</td>\n",
       "      <td>0.81</td>\n",
       "      <td>559.0</td>\n",
       "      <td>79.95</td>\n",
       "    </tr>\n",
       "    <tr>\n",
       "      <th>105</th>\n",
       "      <td>Lebana Preserved Red Real Rose with I Love You...</td>\n",
       "      <td>Lebana</td>\n",
       "      <td>0.07</td>\n",
       "      <td>0.16</td>\n",
       "      <td>0.72</td>\n",
       "      <td>167.0</td>\n",
       "      <td>65.99</td>\n",
       "    </tr>\n",
       "    <tr>\n",
       "      <th>159</th>\n",
       "      <td>Valentines Day Gifts for Her,Valentines Rose B...</td>\n",
       "      <td>Dream of Flowers</td>\n",
       "      <td>0.06</td>\n",
       "      <td>0.12</td>\n",
       "      <td>0.77</td>\n",
       "      <td>4285.0</td>\n",
       "      <td>42.99</td>\n",
       "    </tr>\n",
       "    <tr>\n",
       "      <th>161</th>\n",
       "      <td>NEWNOVE Valentines Day Gifts for Her - Preserv...</td>\n",
       "      <td>NEWNOVE</td>\n",
       "      <td>0.05</td>\n",
       "      <td>0.12</td>\n",
       "      <td>0.80</td>\n",
       "      <td>2379.0</td>\n",
       "      <td>43.99</td>\n",
       "    </tr>\n",
       "    <tr>\n",
       "      <th>179</th>\n",
       "      <td>SKPAND Handmade Romantic Gifts for Her Anniver...</td>\n",
       "      <td>SKPAND</td>\n",
       "      <td>0.05</td>\n",
       "      <td>0.13</td>\n",
       "      <td>0.77</td>\n",
       "      <td>244.0</td>\n",
       "      <td>62.66</td>\n",
       "    </tr>\n",
       "    <tr>\n",
       "      <th>184</th>\n",
       "      <td>Godiva Chocolatier Valentine's Day Assorted Ch...</td>\n",
       "      <td>Godiva Chocolatier</td>\n",
       "      <td>0.02</td>\n",
       "      <td>0.08</td>\n",
       "      <td>0.84</td>\n",
       "      <td>391.0</td>\n",
       "      <td>66.00</td>\n",
       "    </tr>\n",
       "    <tr>\n",
       "      <th>201</th>\n",
       "      <td>Valentines Day Flowers Roses Gifts for Her,16p...</td>\n",
       "      <td>Roseshy</td>\n",
       "      <td>0.00</td>\n",
       "      <td>0.03</td>\n",
       "      <td>0.95</td>\n",
       "      <td>113.0</td>\n",
       "      <td>49.49</td>\n",
       "    </tr>\n",
       "    <tr>\n",
       "      <th>205</th>\n",
       "      <td>DENIMOMO Valentines Day Rose Flowers Gifts for...</td>\n",
       "      <td>DENIMOMO</td>\n",
       "      <td>0.06</td>\n",
       "      <td>0.11</td>\n",
       "      <td>0.79</td>\n",
       "      <td>178.0</td>\n",
       "      <td>49.99</td>\n",
       "    </tr>\n",
       "  </tbody>\n",
       "</table>\n",
       "</div>"
      ],
      "text/plain": [
       "                                                 title               brand  \\\n",
       "2    LEGO Icons Flower Bouquet Building Decoration ...                LEGO   \n",
       "73   GLAMOUR BOUTIQUE 27-Piece Forever Flowers Hear...    GLAMOUR BOUTIQUE   \n",
       "105  Lebana Preserved Red Real Rose with I Love You...              Lebana   \n",
       "159  Valentines Day Gifts for Her,Valentines Rose B...    Dream of Flowers   \n",
       "161  NEWNOVE Valentines Day Gifts for Her - Preserv...             NEWNOVE   \n",
       "179  SKPAND Handmade Romantic Gifts for Her Anniver...              SKPAND   \n",
       "184  Godiva Chocolatier Valentine's Day Assorted Ch...  Godiva Chocolatier   \n",
       "201  Valentines Day Flowers Roses Gifts for Her,16p...             Roseshy   \n",
       "205  DENIMOMO Valentines Day Rose Flowers Gifts for...            DENIMOMO   \n",
       "\n",
       "     starsBreakdown/3star  starsBreakdown/4star  starsBreakdown/5star  \\\n",
       "2                    0.01                  0.05                  0.92   \n",
       "73                   0.04                  0.07                  0.81   \n",
       "105                  0.07                  0.16                  0.72   \n",
       "159                  0.06                  0.12                  0.77   \n",
       "161                  0.05                  0.12                  0.80   \n",
       "179                  0.05                  0.13                  0.77   \n",
       "184                  0.02                  0.08                  0.84   \n",
       "201                  0.00                  0.03                  0.95   \n",
       "205                  0.06                  0.11                  0.79   \n",
       "\n",
       "     reviewsCount  price/value  \n",
       "2         19395.0        47.99  \n",
       "73          559.0        79.95  \n",
       "105         167.0        65.99  \n",
       "159        4285.0        42.99  \n",
       "161        2379.0        43.99  \n",
       "179         244.0        62.66  \n",
       "184         391.0        66.00  \n",
       "201         113.0        49.49  \n",
       "205         178.0        49.99  "
      ]
     },
     "execution_count": 26,
     "metadata": {},
     "output_type": "execute_result"
    }
   ],
   "source": [
    "data1[data[\"price/value\"]>40]"
   ]
  },
  {
   "cell_type": "code",
   "execution_count": 27,
   "id": "18fe00c0",
   "metadata": {
    "execution": {
     "iopub.execute_input": "2024-02-08T08:36:33.914629Z",
     "iopub.status.busy": "2024-02-08T08:36:33.914221Z",
     "iopub.status.idle": "2024-02-08T08:36:33.925881Z",
     "shell.execute_reply": "2024-02-08T08:36:33.924618Z"
    },
    "papermill": {
     "duration": 0.0345,
     "end_time": "2024-02-08T08:36:33.928270",
     "exception": false,
     "start_time": "2024-02-08T08:36:33.893770",
     "status": "completed"
    },
    "tags": []
   },
   "outputs": [],
   "source": [
    "data1['price_category'] = pd.qcut(data1['price/value'], q=3, labels=['Low', 'Medium', 'High'])\n"
   ]
  },
  {
   "cell_type": "code",
   "execution_count": 28,
   "id": "5f1ecfd6",
   "metadata": {
    "execution": {
     "iopub.execute_input": "2024-02-08T08:36:33.967419Z",
     "iopub.status.busy": "2024-02-08T08:36:33.967022Z",
     "iopub.status.idle": "2024-02-08T08:36:33.984438Z",
     "shell.execute_reply": "2024-02-08T08:36:33.983189Z"
    },
    "papermill": {
     "duration": 0.040142,
     "end_time": "2024-02-08T08:36:33.986769",
     "exception": false,
     "start_time": "2024-02-08T08:36:33.946627",
     "status": "completed"
    },
    "tags": []
   },
   "outputs": [
    {
     "data": {
      "text/html": [
       "<div>\n",
       "<style scoped>\n",
       "    .dataframe tbody tr th:only-of-type {\n",
       "        vertical-align: middle;\n",
       "    }\n",
       "\n",
       "    .dataframe tbody tr th {\n",
       "        vertical-align: top;\n",
       "    }\n",
       "\n",
       "    .dataframe thead th {\n",
       "        text-align: right;\n",
       "    }\n",
       "</style>\n",
       "<table border=\"1\" class=\"dataframe\">\n",
       "  <thead>\n",
       "    <tr style=\"text-align: right;\">\n",
       "      <th></th>\n",
       "      <th>title</th>\n",
       "      <th>brand</th>\n",
       "      <th>starsBreakdown/3star</th>\n",
       "      <th>starsBreakdown/4star</th>\n",
       "      <th>starsBreakdown/5star</th>\n",
       "      <th>reviewsCount</th>\n",
       "      <th>price/value</th>\n",
       "      <th>price_category</th>\n",
       "    </tr>\n",
       "  </thead>\n",
       "  <tbody>\n",
       "    <tr>\n",
       "      <th>0</th>\n",
       "      <td>Ferrero Rocher, 24 Count, Premium Milk Chocola...</td>\n",
       "      <td>Ferrero Rocher</td>\n",
       "      <td>0.02</td>\n",
       "      <td>0.07</td>\n",
       "      <td>0.89</td>\n",
       "      <td>20021.0</td>\n",
       "      <td>11.39</td>\n",
       "      <td>Low</td>\n",
       "    </tr>\n",
       "    <tr>\n",
       "      <th>1</th>\n",
       "      <td>HERSHEY'S NUGGETS Assorted Chocolate, Valentin...</td>\n",
       "      <td>HERSHEY'S</td>\n",
       "      <td>0.03</td>\n",
       "      <td>0.10</td>\n",
       "      <td>0.84</td>\n",
       "      <td>18891.0</td>\n",
       "      <td>10.69</td>\n",
       "      <td>Low</td>\n",
       "    </tr>\n",
       "    <tr>\n",
       "      <th>2</th>\n",
       "      <td>LEGO Icons Flower Bouquet Building Decoration ...</td>\n",
       "      <td>LEGO</td>\n",
       "      <td>0.01</td>\n",
       "      <td>0.05</td>\n",
       "      <td>0.92</td>\n",
       "      <td>19395.0</td>\n",
       "      <td>47.99</td>\n",
       "      <td>High</td>\n",
       "    </tr>\n",
       "    <tr>\n",
       "      <th>3</th>\n",
       "      <td>BodyRefresh Shower Steamers Aromatherapy - 8 P...</td>\n",
       "      <td>BodyRefresh</td>\n",
       "      <td>0.07</td>\n",
       "      <td>0.15</td>\n",
       "      <td>0.67</td>\n",
       "      <td>593.0</td>\n",
       "      <td>9.99</td>\n",
       "      <td>Low</td>\n",
       "    </tr>\n",
       "    <tr>\n",
       "      <th>4</th>\n",
       "      <td>JoJowell Shower Steamers Aromatherapy - 21Pcs ...</td>\n",
       "      <td>JoJowell</td>\n",
       "      <td>0.10</td>\n",
       "      <td>0.15</td>\n",
       "      <td>0.63</td>\n",
       "      <td>816.0</td>\n",
       "      <td>21.99</td>\n",
       "      <td>High</td>\n",
       "    </tr>\n",
       "  </tbody>\n",
       "</table>\n",
       "</div>"
      ],
      "text/plain": [
       "                                               title           brand  \\\n",
       "0  Ferrero Rocher, 24 Count, Premium Milk Chocola...  Ferrero Rocher   \n",
       "1  HERSHEY'S NUGGETS Assorted Chocolate, Valentin...       HERSHEY'S   \n",
       "2  LEGO Icons Flower Bouquet Building Decoration ...            LEGO   \n",
       "3  BodyRefresh Shower Steamers Aromatherapy - 8 P...     BodyRefresh   \n",
       "4  JoJowell Shower Steamers Aromatherapy - 21Pcs ...        JoJowell   \n",
       "\n",
       "   starsBreakdown/3star  starsBreakdown/4star  starsBreakdown/5star  \\\n",
       "0                  0.02                  0.07                  0.89   \n",
       "1                  0.03                  0.10                  0.84   \n",
       "2                  0.01                  0.05                  0.92   \n",
       "3                  0.07                  0.15                  0.67   \n",
       "4                  0.10                  0.15                  0.63   \n",
       "\n",
       "   reviewsCount  price/value price_category  \n",
       "0       20021.0        11.39            Low  \n",
       "1       18891.0        10.69            Low  \n",
       "2       19395.0        47.99           High  \n",
       "3         593.0         9.99            Low  \n",
       "4         816.0        21.99           High  "
      ]
     },
     "execution_count": 28,
     "metadata": {},
     "output_type": "execute_result"
    }
   ],
   "source": [
    "data1.head()"
   ]
  },
  {
   "cell_type": "code",
   "execution_count": 29,
   "id": "ebe258cf",
   "metadata": {
    "execution": {
     "iopub.execute_input": "2024-02-08T08:36:34.026400Z",
     "iopub.status.busy": "2024-02-08T08:36:34.025978Z",
     "iopub.status.idle": "2024-02-08T08:36:34.194906Z",
     "shell.execute_reply": "2024-02-08T08:36:34.193605Z"
    },
    "papermill": {
     "duration": 0.191997,
     "end_time": "2024-02-08T08:36:34.197630",
     "exception": false,
     "start_time": "2024-02-08T08:36:34.005633",
     "status": "completed"
    },
    "tags": []
   },
   "outputs": [
    {
     "data": {
      "image/png": "[encoded data removed]",
      "text/plain": [
       "<Figure size 640x480 with 1 Axes>"
      ]
     },
     "metadata": {},
     "output_type": "display_data"
    }
   ],
   "source": [
    "sns.countplot(x = \"price_category\", data = data1)\n",
    "plt.show()"
   ]
  },
  {
   "cell_type": "code",
   "execution_count": 30,
   "id": "2c1efda5",
   "metadata": {
    "execution": {
     "iopub.execute_input": "2024-02-08T08:36:34.237826Z",
     "iopub.status.busy": "2024-02-08T08:36:34.237413Z",
     "iopub.status.idle": "2024-02-08T08:36:34.250632Z",
     "shell.execute_reply": "2024-02-08T08:36:34.249242Z"
    },
    "papermill": {
     "duration": 0.036309,
     "end_time": "2024-02-08T08:36:34.253226",
     "exception": false,
     "start_time": "2024-02-08T08:36:34.216917",
     "status": "completed"
    },
    "tags": []
   },
   "outputs": [
    {
     "name": "stdout",
     "output_type": "stream",
     "text": [
      "['Ferrero Rocher' 'grace & stella' \"Burt's Bees\" 'Bazooka Candy Brands'\n",
      " 'Body Restore' 'BAIMEI' 'HOME SMILE']\n"
     ]
    }
   ],
   "source": [
    "#top 10 review brands\n",
    "top_review = data1.reviewsCount.nlargest(10)\n",
    "top_brand = data1.loc[data1['reviewsCount'].isin(top_review), 'brand']\n",
    "print(top_brand.unique())"
   ]
  },
  {
   "cell_type": "code",
   "execution_count": 31,
   "id": "05e9b35d",
   "metadata": {
    "execution": {
     "iopub.execute_input": "2024-02-08T08:36:34.295491Z",
     "iopub.status.busy": "2024-02-08T08:36:34.294481Z",
     "iopub.status.idle": "2024-02-08T08:36:34.304316Z",
     "shell.execute_reply": "2024-02-08T08:36:34.302847Z"
    },
    "papermill": {
     "duration": 0.033067,
     "end_time": "2024-02-08T08:36:34.306689",
     "exception": false,
     "start_time": "2024-02-08T08:36:34.273622",
     "status": "completed"
    },
    "tags": []
   },
   "outputs": [
    {
     "name": "stdout",
     "output_type": "stream",
     "text": [
      "['LEGO' 'GLAMOUR BOUTIQUE' 'Lebana' 'Dream of Flowers' 'NEWNOVE' 'SKPAND'\n",
      " 'Godiva Chocolatier' 'Roseshy' 'DENIMOMO' 'YWHL']\n"
     ]
    }
   ],
   "source": [
    "# Top 10 expensive brands\n",
    "top_price = data1[\"price/value\"].nlargest(10)\n",
    "top_brand_price = data1.loc[data1['price/value'].isin(top_price), 'brand']\n",
    "print(top_brand_price.unique())"
   ]
  },
  {
   "cell_type": "code",
   "execution_count": 32,
   "id": "daa0fba0",
   "metadata": {
    "execution": {
     "iopub.execute_input": "2024-02-08T08:36:34.347872Z",
     "iopub.status.busy": "2024-02-08T08:36:34.347483Z",
     "iopub.status.idle": "2024-02-08T08:36:34.354309Z",
     "shell.execute_reply": "2024-02-08T08:36:34.353217Z"
    },
    "papermill": {
     "duration": 0.030703,
     "end_time": "2024-02-08T08:36:34.356929",
     "exception": false,
     "start_time": "2024-02-08T08:36:34.326226",
     "status": "completed"
    },
    "tags": []
   },
   "outputs": [
    {
     "data": {
      "text/plain": [
       "Index(['title', 'brand', 'starsBreakdown/3star', 'starsBreakdown/4star',\n",
       "       'starsBreakdown/5star', 'reviewsCount', 'price/value',\n",
       "       'price_category'],\n",
       "      dtype='object')"
      ]
     },
     "execution_count": 32,
     "metadata": {},
     "output_type": "execute_result"
    }
   ],
   "source": [
    "data1.columns"
   ]
  },
  {
   "cell_type": "code",
   "execution_count": 33,
   "id": "521332b1",
   "metadata": {
    "execution": {
     "iopub.execute_input": "2024-02-08T08:36:34.398815Z",
     "iopub.status.busy": "2024-02-08T08:36:34.398454Z",
     "iopub.status.idle": "2024-02-08T08:36:34.679559Z",
     "shell.execute_reply": "2024-02-08T08:36:34.678184Z"
    },
    "papermill": {
     "duration": 0.305077,
     "end_time": "2024-02-08T08:36:34.682486",
     "exception": false,
     "start_time": "2024-02-08T08:36:34.377409",
     "status": "completed"
    },
    "tags": []
   },
   "outputs": [
    {
     "data": {
      "text/plain": [
       "<Axes: xlabel='price/value', ylabel='reviewsCount'>"
      ]
     },
     "execution_count": 33,
     "metadata": {},
     "output_type": "execute_result"
    },
    {
     "data": {
      "image/png": "[encoded data removed]",
      "text/plain": [
       "<Figure size 640x480 with 1 Axes>"
      ]
     },
     "metadata": {},
     "output_type": "display_data"
    }
   ],
   "source": [
    "sns.scatterplot(data=data1, x=\"price/value\", y=\"reviewsCount\")\n"
   ]
  },
  {
   "cell_type": "code",
   "execution_count": 34,
   "id": "81a61a77",
   "metadata": {
    "execution": {
     "iopub.execute_input": "2024-02-08T08:36:34.725230Z",
     "iopub.status.busy": "2024-02-08T08:36:34.724558Z",
     "iopub.status.idle": "2024-02-08T08:36:34.731825Z",
     "shell.execute_reply": "2024-02-08T08:36:34.730653Z"
    },
    "papermill": {
     "duration": 0.031112,
     "end_time": "2024-02-08T08:36:34.734026",
     "exception": false,
     "start_time": "2024-02-08T08:36:34.702914",
     "status": "completed"
    },
    "tags": []
   },
   "outputs": [
    {
     "data": {
      "text/plain": [
       "Index(['title', 'brand', 'starsBreakdown/3star', 'starsBreakdown/4star',\n",
       "       'starsBreakdown/5star', 'reviewsCount', 'price/value',\n",
       "       'price_category'],\n",
       "      dtype='object')"
      ]
     },
     "execution_count": 34,
     "metadata": {},
     "output_type": "execute_result"
    }
   ],
   "source": [
    "data1.columns"
   ]
  },
  {
   "cell_type": "code",
   "execution_count": 35,
   "id": "f68a323e",
   "metadata": {
    "execution": {
     "iopub.execute_input": "2024-02-08T08:36:34.776752Z",
     "iopub.status.busy": "2024-02-08T08:36:34.776059Z",
     "iopub.status.idle": "2024-02-08T08:36:35.000585Z",
     "shell.execute_reply": "2024-02-08T08:36:34.999314Z"
    },
    "papermill": {
     "duration": 0.250277,
     "end_time": "2024-02-08T08:36:35.004683",
     "exception": false,
     "start_time": "2024-02-08T08:36:34.754406",
     "status": "completed"
    },
    "tags": []
   },
   "outputs": [
    {
     "data": {
      "image/png": "[encoded data removed]",
      "text/plain": [
       "<Figure size 500x500 with 1 Axes>"
      ]
     },
     "metadata": {},
     "output_type": "display_data"
    }
   ],
   "source": [
    "plt.figure(figsize =(5,5))\n",
    "sns.scatterplot(data=data1, x='price/value', y='starsBreakdown/5star')\n",
    "plt.show()\n"
   ]
  },
  {
   "cell_type": "code",
   "execution_count": 36,
   "id": "73bf39e2",
   "metadata": {
    "execution": {
     "iopub.execute_input": "2024-02-08T08:36:35.061899Z",
     "iopub.status.busy": "2024-02-08T08:36:35.061464Z",
     "iopub.status.idle": "2024-02-08T08:36:35.314405Z",
     "shell.execute_reply": "2024-02-08T08:36:35.312309Z"
    },
    "papermill": {
     "duration": 0.288105,
     "end_time": "2024-02-08T08:36:35.320284",
     "exception": false,
     "start_time": "2024-02-08T08:36:35.032179",
     "status": "completed"
    },
    "tags": []
   },
   "outputs": [
    {
     "data": {
      "image/png": "[encoded data removed]",
      "text/plain": [
       "<Figure size 500x500 with 1 Axes>"
      ]
     },
     "metadata": {},
     "output_type": "display_data"
    }
   ],
   "source": [
    "plt.figure(figsize =(5,5))\n",
    "sns.scatterplot(data=data1, x='price/value', y='starsBreakdown/4star')\n",
    "plt.show()\n"
   ]
  },
  {
   "cell_type": "code",
   "execution_count": 37,
   "id": "288a37bf",
   "metadata": {
    "execution": {
     "iopub.execute_input": "2024-02-08T08:36:35.380427Z",
     "iopub.status.busy": "2024-02-08T08:36:35.379062Z",
     "iopub.status.idle": "2024-02-08T08:36:35.613266Z",
     "shell.execute_reply": "2024-02-08T08:36:35.612341Z"
    },
    "papermill": {
     "duration": 0.264525,
     "end_time": "2024-02-08T08:36:35.615492",
     "exception": false,
     "start_time": "2024-02-08T08:36:35.350967",
     "status": "completed"
    },
    "tags": []
   },
   "outputs": [
    {
     "data": {
      "image/png": "[encoded data removed]",
      "text/plain": [
       "<Figure size 500x500 with 1 Axes>"
      ]
     },
     "metadata": {},
     "output_type": "display_data"
    }
   ],
   "source": [
    "plt.figure(figsize =(5,5))\n",
    "sns.scatterplot(data=data1, x='price/value', y='starsBreakdown/3star')\n",
    "plt.show()\n"
   ]
  },
  {
   "cell_type": "code",
   "execution_count": 38,
   "id": "74873462",
   "metadata": {
    "execution": {
     "iopub.execute_input": "2024-02-08T08:36:35.673269Z",
     "iopub.status.busy": "2024-02-08T08:36:35.672060Z",
     "iopub.status.idle": "2024-02-08T08:36:36.029357Z",
     "shell.execute_reply": "2024-02-08T08:36:36.027953Z"
    },
    "papermill": {
     "duration": 0.391258,
     "end_time": "2024-02-08T08:36:36.032077",
     "exception": false,
     "start_time": "2024-02-08T08:36:35.640819",
     "status": "completed"
    },
    "tags": []
   },
   "outputs": [
    {
     "data": {
      "image/png": "[encoded data removed]",
      "text/plain": [
       "<Figure size 640x480 with 2 Axes>"
      ]
     },
     "metadata": {},
     "output_type": "display_data"
    }
   ],
   "source": [
    "res = data1[['starsBreakdown/3star', 'starsBreakdown/4star','starsBreakdown/5star', 'reviewsCount', 'price/value']].corr()\n",
    "sns.heatmap(res, annot = True, cmap = \"rocket_r\")\n",
    "plt.show()"
   ]
  },
  {
   "cell_type": "markdown",
   "id": "05d448cd",
   "metadata": {
    "papermill": {
     "duration": 0.022497,
     "end_time": "2024-02-08T08:36:36.079506",
     "exception": false,
     "start_time": "2024-02-08T08:36:36.057009",
     "status": "completed"
    },
    "tags": []
   },
   "source": [
    "# Final Insight\n",
    "- Consumers tend to favor products priced between 10 and 20 dollar.\n",
    "- These brands are particularly popular due to their higher review counts, indicating greater consumer usage   Ferrero Rocher, Grace & Stella, Burt's Bees, Bazooka Candy Brands, Body Restore, BAIMEI, and HOME SMILE.\"\n",
    "- Among the listed brands, LEGO, GLAMOUR BOUTIQUE, Lebana, Dream of Flowers, NEWNOVE, SKPAND, Godiva      Chocolatier, Roseshy, DENIMOMO, and YWHL fall into the category of expensive brands.\"\n",
    "- It's worth noting that a higher price for a product doesn't necessarily gurantee with higher 5star counts.\"\n",
    "\n",
    "\n",
    "\n",
    "\n"
   ]
  },
  {
   "cell_type": "code",
   "execution_count": null,
   "id": "5ba51d18",
   "metadata": {
    "papermill": {
     "duration": 0.022311,
     "end_time": "2024-02-08T08:36:36.124787",
     "exception": false,
     "start_time": "2024-02-08T08:36:36.102476",
     "status": "completed"
    },
    "tags": []
   },
   "outputs": [],
   "source": []
  }
 ],
 "metadata": {
  "kaggle": {
   "accelerator": "none",
   "dataSources": [
    {
     "datasetId": 4409989,
     "sourceId": 7574373,
     "sourceType": "datasetVersion"
    }
   ],
   "dockerImageVersionId": 30646,
   "isGpuEnabled": false,
   "isInternetEnabled": true,
   "language": "python",
   "sourceType": "notebook"
  },
  "kernelspec": {
   "display_name": "Python 3",
   "language": "python",
   "name": "python3"
  },
  "language_info": {
   "codemirror_mode": {
    "name": "ipython",
    "version": 3
   },
   "file_extension": ".py",
   "mimetype": "text/x-python",
   "name": "python",
   "nbconvert_exporter": "python",
   "pygments_lexer": "ipython3",
   "version": "3.10.13"
  },
  "papermill": {
   "default_parameters": {},
   "duration": 10.715938,
   "end_time": "2024-02-08T08:36:36.770008",
   "environment_variables": {},
   "exception": null,
   "input_path": "__notebook__.ipynb",
   "output_path": "__notebook__.ipynb",
   "parameters": {},
   "start_time": "2024-02-08T08:36:26.054070",
   "version": "2.5.0"
  }
 },
 "nbformat": 4,
 "nbformat_minor": 5
}
